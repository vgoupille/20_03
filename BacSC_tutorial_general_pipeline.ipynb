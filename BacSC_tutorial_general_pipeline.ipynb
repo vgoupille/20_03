{
 "cells": [
  {
   "cell_type": "code",
   "execution_count": 80,
   "id": "078853ed",
   "metadata": {
    "ExecuteTime": {
     "end_time": "2024-08-19T14:21:36.642363Z",
     "start_time": "2024-08-19T14:21:36.640448Z"
    }
   },
   "outputs": [],
   "source": [
    "# These imports and path modifications are only necessary for development\n",
    "import importlib\n",
    "\n",
    "import os\n",
    "import sys\n",
    "module_path = os.path.abspath(os.path.join('..'))\n",
    "if module_path not in sys.path:\n",
    "    sys.path.append(module_path)"
   ]
  },
  {
   "cell_type": "code",
   "execution_count": 81,
   "id": "070ed645",
   "metadata": {},
   "outputs": [
    {
     "name": "stdout",
     "output_type": "stream",
     "text": [
      "Requirement already satisfied: pandas in ./.conda/lib/python3.11/site-packages (2.2.3)\n",
      "Requirement already satisfied: scanpy in ./.conda/lib/python3.11/site-packages (1.11.0)\n",
      "Requirement already satisfied: anndata in ./.conda/lib/python3.11/site-packages (0.11.3)\n",
      "Requirement already satisfied: numpy in ./.conda/lib/python3.11/site-packages (2.1.3)\n",
      "Requirement already satisfied: seaborn in ./.conda/lib/python3.11/site-packages (0.13.2)\n",
      "Requirement already satisfied: matplotlib in ./.conda/lib/python3.11/site-packages (3.10.1)\n",
      "Requirement already satisfied: scipy in ./.conda/lib/python3.11/site-packages (1.15.2)\n",
      "Requirement already satisfied: python-dateutil>=2.8.2 in ./.conda/lib/python3.11/site-packages (from pandas) (2.9.0.post0)\n",
      "Requirement already satisfied: pytz>=2020.1 in ./.conda/lib/python3.11/site-packages (from pandas) (2025.1)\n",
      "Requirement already satisfied: tzdata>=2022.7 in ./.conda/lib/python3.11/site-packages (from pandas) (2025.1)\n",
      "Requirement already satisfied: h5py>=3.7 in ./.conda/lib/python3.11/site-packages (from scanpy) (3.13.0)\n",
      "Requirement already satisfied: joblib in ./.conda/lib/python3.11/site-packages (from scanpy) (1.4.2)\n",
      "Requirement already satisfied: legacy-api-wrap>=1.4 in ./.conda/lib/python3.11/site-packages (from scanpy) (1.4.1)\n",
      "Requirement already satisfied: natsort in ./.conda/lib/python3.11/site-packages (from scanpy) (8.4.0)\n",
      "Requirement already satisfied: networkx>=2.7 in ./.conda/lib/python3.11/site-packages (from scanpy) (3.4.2)\n",
      "Requirement already satisfied: numba>=0.57 in ./.conda/lib/python3.11/site-packages (from scanpy) (0.61.0)\n",
      "Requirement already satisfied: packaging>=21.3 in ./.conda/lib/python3.11/site-packages (from scanpy) (24.2)\n",
      "Requirement already satisfied: patsy!=1.0.0 in ./.conda/lib/python3.11/site-packages (from scanpy) (1.0.1)\n",
      "Requirement already satisfied: pynndescent>=0.5 in ./.conda/lib/python3.11/site-packages (from scanpy) (0.5.13)\n",
      "Requirement already satisfied: scikit-learn<1.6.0,>=1.1 in ./.conda/lib/python3.11/site-packages (from scanpy) (1.5.2)\n",
      "Requirement already satisfied: session-info2 in ./.conda/lib/python3.11/site-packages (from scanpy) (0.1.2)\n",
      "Requirement already satisfied: statsmodels>=0.13 in ./.conda/lib/python3.11/site-packages (from scanpy) (0.14.4)\n",
      "Requirement already satisfied: tqdm in ./.conda/lib/python3.11/site-packages (from scanpy) (4.67.1)\n",
      "Requirement already satisfied: typing-extensions in ./.conda/lib/python3.11/site-packages (from scanpy) (4.12.2)\n",
      "Requirement already satisfied: umap-learn!=0.5.0,>=0.5 in ./.conda/lib/python3.11/site-packages (from scanpy) (0.5.7)\n",
      "Requirement already satisfied: array-api-compat!=1.5,>1.4 in ./.conda/lib/python3.11/site-packages (from anndata) (1.11.2)\n",
      "Requirement already satisfied: contourpy>=1.0.1 in ./.conda/lib/python3.11/site-packages (from matplotlib) (1.3.1)\n",
      "Requirement already satisfied: cycler>=0.10 in ./.conda/lib/python3.11/site-packages (from matplotlib) (0.12.1)\n",
      "Requirement already satisfied: fonttools>=4.22.0 in ./.conda/lib/python3.11/site-packages (from matplotlib) (4.56.0)\n",
      "Requirement already satisfied: kiwisolver>=1.3.1 in ./.conda/lib/python3.11/site-packages (from matplotlib) (1.4.8)\n",
      "Requirement already satisfied: pillow>=8 in ./.conda/lib/python3.11/site-packages (from matplotlib) (11.1.0)\n",
      "Requirement already satisfied: pyparsing>=2.3.1 in ./.conda/lib/python3.11/site-packages (from matplotlib) (3.2.1)\n",
      "Requirement already satisfied: llvmlite<0.45,>=0.44.0dev0 in ./.conda/lib/python3.11/site-packages (from numba>=0.57->scanpy) (0.44.0)\n",
      "Requirement already satisfied: six>=1.5 in ./.conda/lib/python3.11/site-packages (from python-dateutil>=2.8.2->pandas) (1.17.0)\n",
      "Requirement already satisfied: threadpoolctl>=3.1.0 in ./.conda/lib/python3.11/site-packages (from scikit-learn<1.6.0,>=1.1->scanpy) (3.6.0)\n",
      "Requirement already satisfied: pprintpp in ./.conda/lib/python3.11/site-packages (0.4.0)\n"
     ]
    }
   ],
   "source": [
    "!pip install pandas scanpy anndata numpy seaborn matplotlib scipy \n",
    "!pip install pprintpp"
   ]
  },
  {
   "cell_type": "code",
   "execution_count": 96,
   "id": "3ad50059",
   "metadata": {},
   "outputs": [
    {
     "name": "stdout",
     "output_type": "stream",
     "text": [
      "Requirement already satisfied: scipy in ./.conda/lib/python3.11/site-packages (1.15.2)\n",
      "Requirement already satisfied: numpy<2.5,>=1.23.5 in ./.conda/lib/python3.11/site-packages (from scipy) (2.1.3)\n",
      "Note: you may need to restart the kernel to use updated packages.\n"
     ]
    }
   ],
   "source": [
    "pip install --upgrade scipy\n"
   ]
  },
  {
   "cell_type": "code",
   "execution_count": 82,
   "id": "45e313d3",
   "metadata": {},
   "outputs": [
    {
     "name": "stdout",
     "output_type": "stream",
     "text": [
      "Requirement already satisfied: KDEpy in ./.conda/lib/python3.11/site-packages (1.1.11)\n",
      "Requirement already satisfied: numpy>=1.14.2 in ./.conda/lib/python3.11/site-packages (from KDEpy) (2.1.3)\n",
      "Requirement already satisfied: scipy<2.0,>=1.0.1 in ./.conda/lib/python3.11/site-packages (from KDEpy) (1.15.2)\n"
     ]
    }
   ],
   "source": [
    "!pip install KDEpy"
   ]
  },
  {
   "cell_type": "code",
   "execution_count": 83,
   "id": "ed797634fa09f9a",
   "metadata": {
    "ExecuteTime": {
     "end_time": "2024-08-19T14:21:37.142124Z",
     "start_time": "2024-08-19T14:21:36.921701Z"
    }
   },
   "outputs": [],
   "source": [
    "import pandas as pd\n",
    "import scanpy as sc\n",
    "import anndata as ad\n",
    "import numpy as np\n",
    "import seaborn as sns\n",
    "import matplotlib.pyplot as plt\n",
    "import scipy.sparse as sps\n",
    "    \n",
    "import tools.util_probe as up\n",
    "import tools.util as ut\n",
    "import tools.NB_est as nb\n",
    "import tools.countsplit as cs\n",
    "import tools.scDEED as scd\n",
    "import tools.clustering_opt as co\n",
    "\n",
    "import warnings\n",
    "warnings.filterwarnings(\"ignore\")"
   ]
  },
  {
   "cell_type": "code",
   "execution_count": 84,
   "id": "bedab9a9",
   "metadata": {},
   "outputs": [],
   "source": [
    "import pprintpp as pp"
   ]
  },
  {
   "cell_type": "markdown",
   "id": "37e2439c",
   "metadata": {},
   "source": [
    "# BacSC general pipeline - Tutorial\n",
    "\n",
    "This tutorial covers how to use the BacSC pipeline to perform automated analysis of (bacterial) single-cell data. In this tutorial, we analyze B.subtilis grown in minimal media, that were sequenced with the ProBac method (McNulty et al., 2023).\n",
    "\n",
    "The easiest way to apply the same pipeline to your data is to copy this notebook and perform every step on your dataset"
   ]
  },
  {
   "cell_type": "markdown",
   "id": "58a76c68cd3d2b93",
   "metadata": {},
   "source": [
    "## Preprocessing\n",
    "### Read data"
   ]
  },
  {
   "cell_type": "code",
   "execution_count": 85,
   "id": "d4bceeb2",
   "metadata": {},
   "outputs": [
    {
     "name": "stdout",
     "output_type": "stream",
     "text": [
      "AnnData object with n_obs × n_vars = 730249 × 4422\n",
      "    obs: 'nCount_RNA', 'nFeature_RNA', 'rep', 'sublibrary', 'well', 'cond'\n",
      "    var: 'names'\n",
      "                                 bs-dnaA  bs-dnaN  bs-rlbA  bs-recF  bs-remB  \\\n",
      "rep1_AAACATCG_AACCGAGA_ACTCGTAA      0.0      0.0      0.0      0.0      0.0   \n",
      "rep1_AAACATCG_AACGCTTA_ACTCGTAA      0.0      0.0      0.0      0.0      0.0   \n",
      "rep1_AAACATCG_AACTCACC_ACTCGTAA      0.0      0.0      0.0      0.0      0.0   \n",
      "rep1_AAACATCG_AATCCGTC_ACTCGTAA      0.0      0.0      0.0      0.0      0.0   \n",
      "rep1_AAACATCG_ACAGATTC_ACTCGTAA      0.0      0.0      0.0      0.0      0.0   \n",
      "rep1_AAACATCG_AGCACCTC_ACTCGTAA      0.0      0.0      0.0      0.0      0.0   \n",
      "rep1_AAACATCG_AGCAGGAA_ACTCGTAA      0.0      0.0      0.0      0.0      0.0   \n",
      "rep1_AAACATCG_AGCCATGC_ACTCGTAA      0.0      0.0      0.0      0.0      0.0   \n",
      "rep1_AAACATCG_AGGCTAAC_ACTCGTAA      0.0      0.0      0.0      0.0      0.0   \n",
      "rep1_AAACATCG_AGTCACTA_ACTCGTAA      0.0      0.0      0.0      0.0      0.0   \n",
      "rep1_AAACATCG_AGTGGTCA_ACTCGTAA      0.0      0.0      0.0      0.0      0.0   \n",
      "rep1_AAACATCG_ATCATTCC_ACTCGTAA      0.0      0.0      0.0      0.0      0.0   \n",
      "rep1_AAACATCG_CAGCGTTA_ACTCGTAA      0.0      0.0      0.0      0.0      0.0   \n",
      "rep1_AAACATCG_CCATCCTC_ACTCGTAA      0.0      0.0      0.0      0.0      0.0   \n",
      "rep1_AAACATCG_CCTCTATC_ACTCGTAA      0.0      0.0      0.0      0.0      0.0   \n",
      "rep1_AAACATCG_CGAACTTA_ACTCGTAA      0.0      0.0      0.0      0.0      0.0   \n",
      "\n",
      "                                 bs-gyrB  bs-gyrA  bs-trnO-Ala  bs-yaaC  \\\n",
      "rep1_AAACATCG_AACCGAGA_ACTCGTAA      0.0      0.0          0.0      0.0   \n",
      "rep1_AAACATCG_AACGCTTA_ACTCGTAA      0.0      0.0          0.0      0.0   \n",
      "rep1_AAACATCG_AACTCACC_ACTCGTAA      0.0      0.0          0.0      0.0   \n",
      "rep1_AAACATCG_AATCCGTC_ACTCGTAA      0.0      0.0          0.0      0.0   \n",
      "rep1_AAACATCG_ACAGATTC_ACTCGTAA      0.0      0.0          0.0      0.0   \n",
      "rep1_AAACATCG_AGCACCTC_ACTCGTAA      0.0      0.0          0.0      0.0   \n",
      "rep1_AAACATCG_AGCAGGAA_ACTCGTAA      0.0      0.0          0.0      0.0   \n",
      "rep1_AAACATCG_AGCCATGC_ACTCGTAA      0.0      0.0          0.0      0.0   \n",
      "rep1_AAACATCG_AGGCTAAC_ACTCGTAA      0.0      0.0          0.0      0.0   \n",
      "rep1_AAACATCG_AGTCACTA_ACTCGTAA      0.0      0.0          0.0      0.0   \n",
      "rep1_AAACATCG_AGTGGTCA_ACTCGTAA      0.0      0.0          0.0      0.0   \n",
      "rep1_AAACATCG_ATCATTCC_ACTCGTAA      0.0      0.0          0.0      0.0   \n",
      "rep1_AAACATCG_CAGCGTTA_ACTCGTAA      0.0      0.0          0.0      0.0   \n",
      "rep1_AAACATCG_CCATCCTC_ACTCGTAA      0.0      0.0          0.0      0.0   \n",
      "rep1_AAACATCG_CCTCTATC_ACTCGTAA      0.0      0.0          0.0      0.0   \n",
      "rep1_AAACATCG_CGAACTTA_ACTCGTAA      0.0      0.0          0.0      0.0   \n",
      "\n",
      "                                 bs-guaB  \n",
      "rep1_AAACATCG_AACCGAGA_ACTCGTAA      0.0  \n",
      "rep1_AAACATCG_AACGCTTA_ACTCGTAA      0.0  \n",
      "rep1_AAACATCG_AACTCACC_ACTCGTAA      0.0  \n",
      "rep1_AAACATCG_AATCCGTC_ACTCGTAA      0.0  \n",
      "rep1_AAACATCG_ACAGATTC_ACTCGTAA      0.0  \n",
      "rep1_AAACATCG_AGCACCTC_ACTCGTAA      0.0  \n",
      "rep1_AAACATCG_AGCAGGAA_ACTCGTAA      0.0  \n",
      "rep1_AAACATCG_AGCCATGC_ACTCGTAA      0.0  \n",
      "rep1_AAACATCG_AGGCTAAC_ACTCGTAA      0.0  \n",
      "rep1_AAACATCG_AGTCACTA_ACTCGTAA      0.0  \n",
      "rep1_AAACATCG_AGTGGTCA_ACTCGTAA      0.0  \n",
      "rep1_AAACATCG_ATCATTCC_ACTCGTAA      0.0  \n",
      "rep1_AAACATCG_CAGCGTTA_ACTCGTAA      0.0  \n",
      "rep1_AAACATCG_CCATCCTC_ACTCGTAA      0.0  \n",
      "rep1_AAACATCG_CCTCTATC_ACTCGTAA      0.0  \n",
      "rep1_AAACATCG_CGAACTTA_ACTCGTAA      0.0  \n"
     ]
    }
   ],
   "source": [
    "# Charger les données\n",
    "adata = sc.read(\"data/result.h5ad\")\n",
    "# Afficher les dimensions\n",
    "pp.pprint(adata)  # Affiche les dimensions de la matrice d'expression\n",
    "\n",
    "# Afficher les 16 premières cellules et les 10 premiers gènes\n",
    "pp.pprint(adata[:16, :10].to_df())\n",
    "\n",
    "data_all = adata"
   ]
  },
  {
   "cell_type": "markdown",
   "id": "349f72ca",
   "metadata": {},
   "source": [
    "#faire un petit dataset\n",
    "data_all = data_all[:10000, :]\n",
    "data_all\n"
   ]
  },
  {
   "cell_type": "code",
   "execution_count": 86,
   "id": "0e36a4d9",
   "metadata": {},
   "outputs": [
    {
     "data": {
      "text/plain": [
       "View of AnnData object with n_obs × n_vars = 430175 × 4422\n",
       "    obs: 'nCount_RNA', 'nFeature_RNA', 'rep', 'sublibrary', 'well', 'cond'\n",
       "    var: 'names'"
      ]
     },
     "execution_count": 86,
     "metadata": {},
     "output_type": "execute_result"
    }
   ],
   "source": [
    "# filtre uniquement AnnData object with n_obs × n_vars = 730249 × 4422   obs: 'rep' = \"rep2\"\n",
    "data_all = data_all[data_all.obs['rep'] == \"rep2\"]\n",
    "data_all"
   ]
  },
  {
   "cell_type": "raw",
   "id": "2e1c2c3e",
   "metadata": {
    "vscode": {
     "languageId": "raw"
    }
   },
   "source": [
    "import scipy.sparse as sp\n",
    "\n",
    "print(type(adata.X))  # Vérifie le type de la matrice\n",
    "\n",
    "if not sp.isspmatrix_csr(adata.X):  \n",
    "    adata.X = sp.csr_matrix(adata.X)  # Conversion en csr_matrix\n",
    "print(type(adata.X))  # Doit afficher <class 'scipy.sparse.csr.csr_matrix'>"
   ]
  },
  {
   "cell_type": "code",
   "execution_count": 95,
   "metadata": {},
   "outputs": [
    {
     "data": {
      "application/vnd.microsoft.datawrangler.viewer.v0+json": {
       "columns": [
        {
         "name": "index",
         "rawType": "object",
         "type": "string"
        },
        {
         "name": "names",
         "rawType": "object",
         "type": "string"
        }
       ],
       "conversionMethod": "pd.DataFrame",
       "ref": "8a81c570-b9ee-464b-9c1a-630f8193f8c2",
       "rows": [
        [
         "bs-dnaA",
         "bs-dnaA"
        ],
        [
         "bs-dnaN",
         "bs-dnaN"
        ],
        [
         "bs-rlbA",
         "bs-rlbA"
        ],
        [
         "bs-recF",
         "bs-recF"
        ],
        [
         "bs-remB",
         "bs-remB"
        ]
       ],
       "shape": {
        "columns": 1,
        "rows": 5
       }
      },
      "text/html": [
       "<div>\n",
       "<style scoped>\n",
       "    .dataframe tbody tr th:only-of-type {\n",
       "        vertical-align: middle;\n",
       "    }\n",
       "\n",
       "    .dataframe tbody tr th {\n",
       "        vertical-align: top;\n",
       "    }\n",
       "\n",
       "    .dataframe thead th {\n",
       "        text-align: right;\n",
       "    }\n",
       "</style>\n",
       "<table border=\"1\" class=\"dataframe\">\n",
       "  <thead>\n",
       "    <tr style=\"text-align: right;\">\n",
       "      <th></th>\n",
       "      <th>names</th>\n",
       "    </tr>\n",
       "  </thead>\n",
       "  <tbody>\n",
       "    <tr>\n",
       "      <th>bs-dnaA</th>\n",
       "      <td>bs-dnaA</td>\n",
       "    </tr>\n",
       "    <tr>\n",
       "      <th>bs-dnaN</th>\n",
       "      <td>bs-dnaN</td>\n",
       "    </tr>\n",
       "    <tr>\n",
       "      <th>bs-rlbA</th>\n",
       "      <td>bs-rlbA</td>\n",
       "    </tr>\n",
       "    <tr>\n",
       "      <th>bs-recF</th>\n",
       "      <td>bs-recF</td>\n",
       "    </tr>\n",
       "    <tr>\n",
       "      <th>bs-remB</th>\n",
       "      <td>bs-remB</td>\n",
       "    </tr>\n",
       "  </tbody>\n",
       "</table>\n",
       "</div>"
      ],
      "text/plain": [
       "           names\n",
       "bs-dnaA  bs-dnaA\n",
       "bs-dnaN  bs-dnaN\n",
       "bs-rlbA  bs-rlbA\n",
       "bs-recF  bs-recF\n",
       "bs-remB  bs-remB"
      ]
     },
     "execution_count": 95,
     "metadata": {},
     "output_type": "execute_result"
    }
   ],
   "source": [
    "adata.var.head()"
   ]
  },
  {
   "cell_type": "markdown",
   "id": "b544597e5303fae5",
   "metadata": {},
   "source": [
    "### Filter cells\n",
    "\n",
    "**This is the only step where manual setting of parameters is necessary!**\n",
    "\n",
    "We perform some basic quality filtering on the data:\n",
    "- Remove cells with less than 100 genes expressed\n",
    "- Remove genes present in less than 2 cells\n",
    "- Filter out outliers based on the median absolute deviation of counts (see plot below) - In this case, this actually removes no additional cells"
   ]
  },
  {
   "cell_type": "code",
   "execution_count": 88,
   "id": "66456abb636ede47",
   "metadata": {
    "ExecuteTime": {
     "end_time": "2024-08-19T14:21:40.928697Z",
     "start_time": "2024-08-19T14:21:40.903304Z"
    }
   },
   "outputs": [
    {
     "name": "stdout",
     "output_type": "stream",
     "text": [
      "outlier\n",
      "False    415096\n",
      "True      15079\n",
      "Name: count, dtype: int64\n",
      "Total number of cells: 430175\n",
      "Number of cells after filtering: 4047\n"
     ]
    },
    {
     "data": {
      "text/plain": [
       "AnnData object with n_obs × n_vars = 4047 × 4316\n",
       "    obs: 'nCount_RNA', 'nFeature_RNA', 'rep', 'sublibrary', 'well', 'cond', 'n_genes_by_counts', 'log1p_n_genes_by_counts', 'total_counts', 'log1p_total_counts', 'outlier', 'n_genes'\n",
       "    var: 'names', 'n_cells_by_counts', 'mean_counts', 'log1p_mean_counts', 'pct_dropout_by_counts', 'total_counts', 'log1p_total_counts', 'n_cells'"
      ]
     },
     "execution_count": 88,
     "metadata": {},
     "output_type": "execute_result"
    }
   ],
   "source": [
    "data_gene = ut.filter_outliers(data_all, nmads=5, min_cells=2, min_genes=100)\n",
    "print(data_all.obs.outlier.value_counts())\n",
    "print(f\"Total number of cells: {data_all.n_obs}\")\n",
    "print(f\"Number of cells after filtering: {data_gene.n_obs}\")\n",
    "data_gene"
   ]
  },
  {
   "cell_type": "code",
   "execution_count": 89,
   "id": "5e1dd3cb453add1e",
   "metadata": {
    "ExecuteTime": {
     "end_time": "2024-08-19T14:21:41.222129Z",
     "start_time": "2024-08-19T14:21:40.929622Z"
    }
   },
   "outputs": [
    {
     "data": {
      "image/png": "[encoded data removed]",
      "text/plain": [
       "<Figure size 810.02x480 with 2 Axes>"
      ]
     },
     "metadata": {},
     "output_type": "display_data"
    },
    {
     "data": {
      "image/png": "[encoded data removed]",
      "text/plain": [
       "<Figure size 728.72x480 with 1 Axes>"
      ]
     },
     "metadata": {},
     "output_type": "display_data"
    }
   ],
   "source": [
    "g = sc.pl.scatter(data_all, x='total_counts', y='n_genes_by_counts', color=\"outlier\", show=False, size=15, color_map=\"flare\", title=\"Sequencing depth of cells (before outlier removal)\")\n",
    "g.set(xlabel = \"Sequencing depth\")\n",
    "g.set(ylabel=\"Number of unique genes\")\n",
    "plt.tight_layout()\n",
    "plt.show()\n",
    "\n",
    "sc.pl.scatter(data_gene, x='total_counts', y='n_genes_by_counts', show=False, size=15)\n",
    "plt.title(\"Sequencing depth of cells (after outlier removal)\")\n",
    "plt.xlabel(\"Sequencing depth\")\n",
    "plt.ylabel(\"Number of unique genes\")\n",
    "plt.show()"
   ]
  },
  {
   "cell_type": "markdown",
   "id": "73075c06b18ef107",
   "metadata": {},
   "source": [
    "## Variance stabilization\n",
    "\n",
    "Plotting the mean-variance ratio of genes, we see that the data is not overdispersed. Therefore, we will use Poisson count splitting"
   ]
  },
  {
   "cell_type": "code",
   "execution_count": 90,
   "id": "22c88fcf53ea1b2b",
   "metadata": {
    "ExecuteTime": {
     "end_time": "2024-08-19T14:21:41.225589Z",
     "start_time": "2024-08-19T14:21:41.223133Z"
    }
   },
   "outputs": [],
   "source": [
    "# Save raw counts into a layer of the anndata\n",
    "data_gene.layers[\"counts\"] = data_gene.X.copy()"
   ]
  },
  {
   "cell_type": "code",
   "execution_count": 91,
   "id": "427df94b7e71dc72",
   "metadata": {
    "ExecuteTime": {
     "end_time": "2024-08-19T14:21:41.313152Z",
     "start_time": "2024-08-19T14:21:41.226102Z"
    },
    "scrolled": true
   },
   "outputs": [
    {
     "data": {
      "image/png": "[encoded data removed]",
      "text/plain": [
       "<Figure size 640x480 with 1 Axes>"
      ]
     },
     "metadata": {},
     "output_type": "display_data"
    }
   ],
   "source": [
    "data_gene.var[\"var_counts\"] = np.asarray(np.var(data_gene.X.toarray(), axis=0)).squeeze()\n",
    "data_gene.var[\"mean_counts\"] = np.asarray(np.mean(data_gene.X.toarray(), axis=0)).squeeze()\n",
    "sns.scatterplot(data=data_gene.var, x=\"mean_counts\", y=\"var_counts\")\n",
    "plt.plot([0, np.ceil(np.max(data_gene.var[\"mean_counts\"]))], [0, np.ceil(np.max(data_gene.var[\"mean_counts\"]))], color=\"red\")\n",
    "plt.title(\"Mean-variance relationship of genes\")\n",
    "plt.xlabel(\"Mean counts\")\n",
    "plt.ylabel(\"Variance\")\n",
    "plt.show()"
   ]
  },
  {
   "cell_type": "code",
   "execution_count": 92,
   "id": "5329c8fffedf8f7a",
   "metadata": {
    "ExecuteTime": {
     "end_time": "2024-08-19T14:21:41.316485Z",
     "start_time": "2024-08-19T14:21:41.313750Z"
    }
   },
   "outputs": [
    {
     "name": "stdout",
     "output_type": "stream",
     "text": [
      "Data is not overdispersed - use Poisson count splitting\n"
     ]
    }
   ],
   "source": [
    "# See if a linear or quadratic relationship fits better \n",
    "mv_corr_lin = np.corrcoef(data_gene.var[\"mean_counts\"], data_gene.var[\"var_counts\"])[0,1]\n",
    "mv_corr_sq = np.corrcoef(data_gene.var[\"mean_counts\"]**2, data_gene.var[\"var_counts\"])[0,1]\n",
    "\n",
    "if mv_corr_sq > mv_corr_lin:\n",
    "    is_overdispersed = True\n",
    "else:\n",
    "    is_overdispersed = False\n",
    "    \n",
    "if is_overdispersed:\n",
    "    print(\"Data is overdispersed - use Negative Binomial count splitting\")\n",
    "else:\n",
    "    print(\"Data is not overdispersed - use Poisson count splitting\")\n"
   ]
  },
  {
   "cell_type": "markdown",
   "id": "4945a41cad0ed914",
   "metadata": {},
   "source": [
    "## Estimate negative binomial parameters for each gene\n",
    "\n",
    "We use scTransform to estimate the dispersion parameter for each gene, which we will use for variance stabilization"
   ]
  },
  {
   "cell_type": "code",
   "execution_count": 93,
   "id": "88655923",
   "metadata": {},
   "outputs": [
    {
     "data": {
      "text/plain": [
       "<module 'tools.NB_est' from '/Users/valentingoupille/Desktop/20_03/tools/NB_est.py'>"
      ]
     },
     "execution_count": 93,
     "metadata": {},
     "output_type": "execute_result"
    }
   ],
   "source": [
    "import importlib\n",
    "import tools.NB_est as nb\n",
    "\n",
    "# Recharger le module nb après modification\n",
    "importlib.reload(nb)"
   ]
  },
  {
   "cell_type": "code",
   "execution_count": 94,
   "id": "cc5af38a10b9797",
   "metadata": {
    "ExecuteTime": {
     "end_time": "2024-08-19T14:22:21.047375Z",
     "start_time": "2024-08-19T14:21:41.317538Z"
    },
    "scrolled": true
   },
   "outputs": [
    {
     "ename": "AttributeError",
     "evalue": "'csr_matrix' object has no attribute 'A'",
     "output_type": "error",
     "traceback": [
      "\u001b[31m---------------------------------------------------------------------------\u001b[39m",
      "\u001b[31mRemoteTraceback\u001b[39m                           Traceback (most recent call last)",
      "\u001b[31mRemoteTraceback\u001b[39m: \n\"\"\"\nTraceback (most recent call last):\n  File \"/Users/valentingoupille/Desktop/20_03/.conda/lib/python3.11/multiprocessing/pool.py\", line 125, in worker\n    result = (True, func(*args, **kwds))\n                    ^^^^^^^^^^^^^^^^^^^\n  File \"/Users/valentingoupille/Desktop/20_03/.conda/lib/python3.11/multiprocessing/pool.py\", line 48, in mapstar\n    return list(map(*args))\n           ^^^^^^^^^^^^^^^^\n  File \"/Users/valentingoupille/Desktop/20_03/tools/scTransform.py\", line 56, in _parallel_wrapper\n    y = umi_bin[:, j].A.flatten()\n        ^^^^^^^^^^^^^^^\nAttributeError: 'csr_matrix' object has no attribute 'A'\n\"\"\"",
      "\nThe above exception was the direct cause of the following exception:\n",
      "\u001b[31mAttributeError\u001b[39m                            Traceback (most recent call last)",
      "\u001b[36mCell\u001b[39m\u001b[36m \u001b[39m\u001b[32mIn[94]\u001b[39m\u001b[32m, line 1\u001b[39m\n\u001b[32m----> \u001b[39m\u001b[32m1\u001b[39m \u001b[43mnb\u001b[49m\u001b[43m.\u001b[49m\u001b[43mestimate_overdisp_nb\u001b[49m\u001b[43m(\u001b[49m\u001b[43mdata_gene\u001b[49m\u001b[43m,\u001b[49m\u001b[43m \u001b[49m\u001b[43mlayer\u001b[49m\u001b[43m=\u001b[49m\u001b[33;43m\"\u001b[39;49m\u001b[33;43mcounts\u001b[39;49m\u001b[33;43m\"\u001b[39;49m\u001b[43m,\u001b[49m\u001b[43m \u001b[49m\u001b[43mflavor\u001b[49m\u001b[43m=\u001b[49m\u001b[33;43m\"\u001b[39;49m\u001b[33;43msctransform\u001b[39;49m\u001b[33;43m\"\u001b[39;49m\u001b[43m,\u001b[49m\u001b[43m \u001b[49m\u001b[43mseed\u001b[49m\u001b[43m=\u001b[49m\u001b[32;43m5678\u001b[39;49m\u001b[43m)\u001b[49m\n",
      "\u001b[36mFile \u001b[39m\u001b[32m~/Desktop/20_03/tools/NB_est.py:94\u001b[39m, in \u001b[36mestimate_overdisp_nb\u001b[39m\u001b[34m(adata, layer, cutoff, flavor, use_init_params, seed)\u001b[39m\n\u001b[32m     91\u001b[39m     adata.var[\u001b[33m\"\u001b[39m\u001b[33mnb_overdisp_cutoff\u001b[39m\u001b[33m\"\u001b[39m][(adata.var[\u001b[33m\"\u001b[39m\u001b[33mnb_overdisp\u001b[39m\u001b[33m\"\u001b[39m] > \u001b[32m0.1\u001b[39m * adata.var[\u001b[33m\"\u001b[39m\u001b[33mtotal_counts\u001b[39m\u001b[33m\"\u001b[39m])] = cutoff\n\u001b[32m     93\u001b[39m \u001b[38;5;28;01melif\u001b[39;00m flavor == \u001b[33m\"\u001b[39m\u001b[33msctransform\u001b[39m\u001b[33m\"\u001b[39m:\n\u001b[32m---> \u001b[39m\u001b[32m94\u001b[39m     adata_sct = \u001b[43msct\u001b[49m\u001b[43m.\u001b[49m\u001b[43mSCTransform\u001b[49m\u001b[43m(\u001b[49m\u001b[43madata\u001b[49m\u001b[43m,\u001b[49m\n\u001b[32m     95\u001b[39m \u001b[43m                                \u001b[49m\u001b[43mlayer\u001b[49m\u001b[43m=\u001b[49m\u001b[43mlayer\u001b[49m\u001b[43m,\u001b[49m\n\u001b[32m     96\u001b[39m \u001b[43m                                \u001b[49m\u001b[43mmin_cells\u001b[49m\u001b[43m=\u001b[49m\u001b[32;43m1\u001b[39;49m\u001b[43m,\u001b[49m\n\u001b[32m     97\u001b[39m \u001b[43m                                \u001b[49m\u001b[43mgmean_eps\u001b[49m\u001b[43m=\u001b[49m\u001b[32;43m1\u001b[39;49m\u001b[43m,\u001b[49m\n\u001b[32m     98\u001b[39m \u001b[43m                                \u001b[49m\u001b[43mn_genes\u001b[49m\u001b[43m=\u001b[49m\u001b[32;43m2000\u001b[39;49m\u001b[43m,\u001b[49m\n\u001b[32m     99\u001b[39m \u001b[43m                                \u001b[49m\u001b[43mn_cells\u001b[49m\u001b[43m=\u001b[49m\u001b[38;5;28;43;01mNone\u001b[39;49;00m\u001b[43m,\u001b[49m\u001b[43m  \u001b[49m\u001b[38;5;66;43;03m# use all cells\u001b[39;49;00m\n\u001b[32m    100\u001b[39m \u001b[43m                                \u001b[49m\u001b[43mbin_size\u001b[49m\u001b[43m=\u001b[49m\u001b[32;43m500\u001b[39;49m\u001b[43m,\u001b[49m\n\u001b[32m    101\u001b[39m \u001b[43m                                \u001b[49m\u001b[43mbw_adjust\u001b[49m\u001b[43m=\u001b[49m\u001b[32;43m3\u001b[39;49m\u001b[43m,\u001b[49m\n\u001b[32m    102\u001b[39m \u001b[43m                                \u001b[49m\u001b[43minplace\u001b[49m\u001b[43m=\u001b[49m\u001b[38;5;28;43;01mFalse\u001b[39;49;00m\u001b[43m,\u001b[49m\n\u001b[32m    103\u001b[39m \u001b[43m                               \u001b[49m\u001b[43mseed\u001b[49m\u001b[43m=\u001b[49m\u001b[43mseed\u001b[49m\u001b[43m)\u001b[49m\n\u001b[32m    104\u001b[39m     adata.var[\u001b[33m\"\u001b[39m\u001b[33mis_scd_outlier\u001b[39m\u001b[33m\"\u001b[39m] = adata_sct.var[\u001b[33m\"\u001b[39m\u001b[33mis_scd_outlier\u001b[39m\u001b[33m\"\u001b[39m]\n\u001b[32m    105\u001b[39m     adata.var[\u001b[33m\"\u001b[39m\u001b[33mnb_overdisp\u001b[39m\u001b[33m\"\u001b[39m] = adata_sct.var[\u001b[33m\"\u001b[39m\u001b[33mtheta_sct\u001b[39m\u001b[33m\"\u001b[39m]\n",
      "\u001b[36mFile \u001b[39m\u001b[32m~/Desktop/20_03/tools/scTransform.py:178\u001b[39m, in \u001b[36mSCTransform\u001b[39m\u001b[34m(adata, layer, min_cells, gmean_eps, n_genes, n_cells, bin_size, bw_adjust, inplace, seed)\u001b[39m\n\u001b[32m    176\u001b[39m pool = Pool(os.cpu_count(), _parallel_init, [genes_bin_regress, umi_bin, gn, mm, ps])\n\u001b[32m    177\u001b[39m \u001b[38;5;28;01mtry\u001b[39;00m:\n\u001b[32m--> \u001b[39m\u001b[32m178\u001b[39m     \u001b[43mpool\u001b[49m\u001b[43m.\u001b[49m\u001b[43mmap\u001b[49m\u001b[43m(\u001b[49m\u001b[43m_parallel_wrapper\u001b[49m\u001b[43m,\u001b[49m\u001b[43m \u001b[49m\u001b[38;5;28;43mrange\u001b[39;49m\u001b[43m(\u001b[49m\u001b[43mumi_bin\u001b[49m\u001b[43m.\u001b[49m\u001b[43mshape\u001b[49m\u001b[43m[\u001b[49m\u001b[32;43m1\u001b[39;49m\u001b[43m]\u001b[49m\u001b[43m)\u001b[49m\u001b[43m,\u001b[49m\u001b[43m \u001b[49m\u001b[43mchunksize\u001b[49m\u001b[43m=\u001b[49m\u001b[43mpc_chunksize\u001b[49m\u001b[43m)\u001b[49m\n\u001b[32m    179\u001b[39m \u001b[38;5;28;01mfinally\u001b[39;00m:\n\u001b[32m    180\u001b[39m     pool.close()\n",
      "\u001b[36mFile \u001b[39m\u001b[32m~/Desktop/20_03/.conda/lib/python3.11/multiprocessing/pool.py:367\u001b[39m, in \u001b[36mPool.map\u001b[39m\u001b[34m(self, func, iterable, chunksize)\u001b[39m\n\u001b[32m    362\u001b[39m \u001b[38;5;28;01mdef\u001b[39;00m\u001b[38;5;250m \u001b[39m\u001b[34mmap\u001b[39m(\u001b[38;5;28mself\u001b[39m, func, iterable, chunksize=\u001b[38;5;28;01mNone\u001b[39;00m):\n\u001b[32m    363\u001b[39m \u001b[38;5;250m    \u001b[39m\u001b[33;03m'''\u001b[39;00m\n\u001b[32m    364\u001b[39m \u001b[33;03m    Apply `func` to each element in `iterable`, collecting the results\u001b[39;00m\n\u001b[32m    365\u001b[39m \u001b[33;03m    in a list that is returned.\u001b[39;00m\n\u001b[32m    366\u001b[39m \u001b[33;03m    '''\u001b[39;00m\n\u001b[32m--> \u001b[39m\u001b[32m367\u001b[39m     \u001b[38;5;28;01mreturn\u001b[39;00m \u001b[38;5;28;43mself\u001b[39;49m\u001b[43m.\u001b[49m\u001b[43m_map_async\u001b[49m\u001b[43m(\u001b[49m\u001b[43mfunc\u001b[49m\u001b[43m,\u001b[49m\u001b[43m \u001b[49m\u001b[43miterable\u001b[49m\u001b[43m,\u001b[49m\u001b[43m \u001b[49m\u001b[43mmapstar\u001b[49m\u001b[43m,\u001b[49m\u001b[43m \u001b[49m\u001b[43mchunksize\u001b[49m\u001b[43m)\u001b[49m\u001b[43m.\u001b[49m\u001b[43mget\u001b[49m\u001b[43m(\u001b[49m\u001b[43m)\u001b[49m\n",
      "\u001b[36mFile \u001b[39m\u001b[32m~/Desktop/20_03/.conda/lib/python3.11/multiprocessing/pool.py:774\u001b[39m, in \u001b[36mApplyResult.get\u001b[39m\u001b[34m(self, timeout)\u001b[39m\n\u001b[32m    772\u001b[39m     \u001b[38;5;28;01mreturn\u001b[39;00m \u001b[38;5;28mself\u001b[39m._value\n\u001b[32m    773\u001b[39m \u001b[38;5;28;01melse\u001b[39;00m:\n\u001b[32m--> \u001b[39m\u001b[32m774\u001b[39m     \u001b[38;5;28;01mraise\u001b[39;00m \u001b[38;5;28mself\u001b[39m._value\n",
      "\u001b[31mAttributeError\u001b[39m: 'csr_matrix' object has no attribute 'A'"
     ]
    }
   ],
   "source": [
    "nb.estimate_overdisp_nb(data_gene, layer=\"counts\", flavor=\"sctransform\", seed=5678)"
   ]
  },
  {
   "cell_type": "code",
   "execution_count": null,
   "id": "4afad224",
   "metadata": {
    "ExecuteTime": {
     "end_time": "2024-08-19T14:22:21.055975Z",
     "start_time": "2024-08-19T14:22:21.048390Z"
    }
   },
   "outputs": [],
   "source": [
    "data_gene.var"
   ]
  },
  {
   "cell_type": "code",
   "execution_count": null,
   "id": "55809f05b7362490",
   "metadata": {
    "ExecuteTime": {
     "end_time": "2024-08-19T14:22:21.504085Z",
     "start_time": "2024-08-19T14:22:21.056494Z"
    },
    "scrolled": true
   },
   "outputs": [],
   "source": [
    "# Quick diagnostic plot - maybe we can spot some outlier genes here that prompt further investigation\n",
    "sns.histplot(data=data_gene.var, x=\"nb_overdisp_cutoff\", bins=100)\n",
    "plt.title(\"Overdispersion parameters estimated by scTransform\")\n",
    "plt.xlabel(\"Overdispersion parameter\")\n",
    "plt.show()\n",
    "\n",
    "g = sns.scatterplot(data=data_gene.var, y=\"nb_overdisp_cutoff\", x=\"mean_counts\")\n",
    "g.set(xscale=\"log\", yscale=\"log\")\n",
    "plt.title(\"Overdispersion parameters estimated by scTransform\")\n",
    "plt.xlabel(\"Gene mean\")\n",
    "plt.ylabel(\"Theta\")\n",
    "plt.show()"
   ]
  },
  {
   "cell_type": "code",
   "execution_count": null,
   "id": "53ed0ef6",
   "metadata": {
    "ExecuteTime": {
     "end_time": "2024-08-19T14:22:21.507880Z",
     "start_time": "2024-08-19T14:22:21.505252Z"
    }
   },
   "outputs": [],
   "source": [
    "data_gene.X = data_gene.layers[\"counts\"].copy()"
   ]
  },
  {
   "cell_type": "markdown",
   "id": "404429e5641af659",
   "metadata": {},
   "source": [
    "## Normalization, VST, scaling and PCA\n",
    "\n",
    "Normalize, scale and perform PCA on the data"
   ]
  },
  {
   "cell_type": "code",
   "execution_count": null,
   "id": "37c865c2",
   "metadata": {
    "ExecuteTime": {
     "end_time": "2024-08-19T14:22:26.600901Z",
     "start_time": "2024-08-19T14:22:21.508486Z"
    },
    "scrolled": true
   },
   "outputs": [],
   "source": [
    "sc.pp.normalize_total(data_gene, target_sum=None, layer=None)\n",
    "if is_overdispersed:\n",
    "    data_gene.X = sps.csr_matrix(np.log(data_gene.X.toarray() + np.array(data_gene.var[\"nb_overdisp_cutoff\"] / 4)))\n",
    "else:\n",
    "    # data_gene.X = sps.csr_matrix(np.sqrt(data_gene.X.toarray()))\n",
    "    data_gene.X = sps.csr_matrix(np.log(data_gene.X.toarray() + np.array(data_gene.var[\"nb_overdisp_cutoff\"] / 4)))\n",
    "\n",
    "data_gene.layers[\"vst_counts\"] = data_gene.X.copy()\n",
    "sc.pp.scale(data_gene, max_value=10, zero_center=True)\n",
    "sc.tl.pca(data_gene, svd_solver='arpack')"
   ]
  },
  {
   "cell_type": "markdown",
   "id": "9c90967d",
   "metadata": {},
   "source": [
    "Histograms of cell sequencing depths before normalization, after VST and after scaling. The data should be more centered than before"
   ]
  },
  {
   "cell_type": "code",
   "execution_count": null,
   "id": "513b1954",
   "metadata": {
    "ExecuteTime": {
     "end_time": "2024-08-19T14:22:26.932600Z",
     "start_time": "2024-08-19T14:22:26.612123Z"
    }
   },
   "outputs": [],
   "source": [
    "\n",
    "fig, axes = plt.subplots(1, 3, figsize=(10, 5))\n",
    "p1 = sns.histplot(data_gene.obs, x=\"total_counts\", kde=False, ax=axes[0], multiple=\"stack\")\n",
    "axes[0].set_title(\"Total counts\")\n",
    "data_gene.obs[\"total_counts_norm\"] = data_gene.layers[\"vst_counts\"].sum(1)\n",
    "p2 = sns.histplot(data_gene.obs, x=\"total_counts_norm\", kde=False, ax=axes[1], multiple=\"stack\")\n",
    "axes[1].set_title(\"Shifted logarithm\")\n",
    "data_gene.obs[\"total_counts_scale\"] = data_gene.X.sum(1)\n",
    "p2 = sns.histplot(data_gene.obs, x=\"total_counts_scale\", kde=False, ax=axes[2], multiple=\"stack\")\n",
    "axes[2].set_title(\"VST and scaled\")\n",
    "plt.tight_layout()\n",
    "plt.show()"
   ]
  },
  {
   "cell_type": "markdown",
   "id": "f39d18a1385ad399",
   "metadata": {},
   "source": [
    "## Count-splitting into train and test data\n",
    "\n",
    "This step creates a train and test dataset, which we use to determine the latent dimensionality and clustering resolution further down the line"
   ]
  },
  {
   "cell_type": "code",
   "execution_count": null,
   "id": "887fe97f73be2da",
   "metadata": {
    "ExecuteTime": {
     "end_time": "2024-08-19T14:22:27.146998Z",
     "start_time": "2024-08-19T14:22:26.933286Z"
    },
    "scrolled": true
   },
   "outputs": [],
   "source": [
    "if is_overdispersed:\n",
    "    data_dist = \"NB\"\n",
    "else:\n",
    "    data_dist = \"Poi\"\n",
    "data_train, data_test = cs.countsplit_adata(data_gene, data_dist=data_dist, beta_key=\"nb_overdisp_cutoff\", layer=\"counts\", min_genes=1, max_counts=1e9, seed=1234)\n",
    "print(data_train)"
   ]
  },
  {
   "cell_type": "markdown",
   "id": "ccb1e10c",
   "metadata": {},
   "source": [
    "Process the data in the same way as the fulld dataset (Normalize, scale, PCA)"
   ]
  },
  {
   "cell_type": "code",
   "execution_count": null,
   "id": "b4b716bc46c7e764",
   "metadata": {
    "ExecuteTime": {
     "end_time": "2024-08-19T14:22:37.234164Z",
     "start_time": "2024-08-19T14:22:27.147573Z"
    }
   },
   "outputs": [],
   "source": [
    "sc.pp.normalize_total(data_train, target_sum=None, layer=None)\n",
    "if is_overdispersed:\n",
    "    data_train.X = sps.csr_matrix(np.log(data_train.X.toarray() + np.array(data_train.var[\"nb_overdisp_cutoff\"] / 4)))\n",
    "else:\n",
    "    data_train.X = sps.csr_matrix(np.sqrt(data_train.X.toarray()))\n",
    "data_train.layers[\"vst_counts\"] = data_train.X.copy()\n",
    "sc.pp.scale(data_train, max_value=10, zero_center=True)\n",
    "sc.tl.pca(data_train, svd_solver='arpack')\n",
    "\n",
    "\n",
    "sc.pp.normalize_total(data_test, target_sum=None, layer=None)\n",
    "if is_overdispersed:\n",
    "    data_test.X = sps.csr_matrix(np.log(data_test.X.toarray() + np.array(data_train.var[\"nb_overdisp_cutoff\"] / 4)))\n",
    "else:\n",
    "    data_test.X = sps.csr_matrix(np.sqrt(data_test.X.toarray()))\n",
    "data_test.layers[\"vst_counts\"] = data_test.X.copy()\n",
    "sc.pp.scale(data_test, max_value=10, zero_center=True)\n",
    "sc.tl.pca(data_test, svd_solver='arpack')"
   ]
  },
  {
   "cell_type": "code",
   "execution_count": null,
   "id": "ce7bd3dad31395ce",
   "metadata": {
    "ExecuteTime": {
     "end_time": "2024-08-19T14:22:37.401012Z",
     "start_time": "2024-08-19T14:22:37.236238Z"
    }
   },
   "outputs": [],
   "source": [
    "sc.pl.pca(data_train, title=\"Training data\")\n",
    "plt.show()\n",
    "\n",
    "sc.pl.pca(data_test, title=\"Test data\")\n",
    "plt.show()"
   ]
  },
  {
   "cell_type": "markdown",
   "id": "60e98ed50369f9ef",
   "metadata": {},
   "source": [
    "### Principal component selection\n",
    "\n",
    "Select the optimal latent dimensionality k - the curve below should have a nice minimum"
   ]
  },
  {
   "cell_type": "code",
   "execution_count": null,
   "id": "2c0febbe67d0eb62",
   "metadata": {
    "ExecuteTime": {
     "end_time": "2024-08-19T14:23:25.820144Z",
     "start_time": "2024-08-19T14:22:37.409951Z"
    }
   },
   "outputs": [],
   "source": [
    "k_errors, k_opt = cs.select_n_pcs_countsplit(data_train, data_test)\n",
    "print(f\"Optimal number of PCs:{k_opt}\")\n",
    "data_gene.uns[\"BacSC_params\"] = {\"k_opt\": k_opt}"
   ]
  },
  {
   "cell_type": "code",
   "execution_count": null,
   "id": "9039893ca38b59d7",
   "metadata": {
    "ExecuteTime": {
     "end_time": "2024-08-19T14:23:25.965795Z",
     "start_time": "2024-08-19T14:23:25.821404Z"
    },
    "scrolled": true
   },
   "outputs": [],
   "source": [
    "plt.scatter(np.arange(20) + 1, k_errors)\n",
    "plt.title(\"SVD loss\")\n",
    "plt.xlabel(\"Dimensionality\")\n",
    "plt.ylabel(\"Loss\")\n",
    "plt.show()"
   ]
  },
  {
   "cell_type": "markdown",
   "id": "1cfade2b",
   "metadata": {},
   "source": [
    "Plot the PCA of the full dataset"
   ]
  },
  {
   "cell_type": "code",
   "execution_count": null,
   "id": "b9f2e5f5a9a3c2e4",
   "metadata": {
    "ExecuteTime": {
     "end_time": "2024-04-15T08:43:40.642570Z",
     "start_time": "2024-04-15T08:43:40.310983Z"
    }
   },
   "outputs": [],
   "source": [
    "sc.pl.pca(data_gene, color=\"total_counts\", cmap=\"viridis\", title=\"PCA of full dataset\")\n",
    "plt.show()"
   ]
  },
  {
   "cell_type": "markdown",
   "id": "a57591d4ce229c70",
   "metadata": {},
   "source": [
    "## Selection of optimal number of neighbors and optimal UMAP scale via scDEED\n",
    "\n",
    "We now select parameters for the UMAP embedding. This is done with scDEED (Xia et al., 2023). Depending on the grid of values to test, this might take a while (in this example about 30 minutes).\n",
    "The results are checkpointed after each parameter set, so you can always extend your parameter range\n",
    "\n",
    "A representative set of parameters is given below, so that this step can be skipped"
   ]
  },
  {
   "cell_type": "code",
   "execution_count": null,
   "id": "cd145a670860837e",
   "metadata": {
    "ExecuteTime": {
     "end_time": "2024-04-15T08:45:48.338352Z",
     "start_time": "2024-04-15T08:45:48.225527Z"
    }
   },
   "outputs": [],
   "source": [
    "seed = 140\n",
    "print(seed)"
   ]
  },
  {
   "cell_type": "code",
   "execution_count": null,
   "id": "43fcd7cfb3de19b6",
   "metadata": {
    "ExecuteTime": {
     "end_time": "2024-04-15T09:00:36.065417Z",
     "start_time": "2024-04-15T08:45:49.459673Z"
    },
    "scrolled": true
   },
   "outputs": [],
   "source": [
    "n_neighborss = [10, 15, 20, 25, 30, 35, 40, 45, 50, 60, 70, 80, 90, 100, 150, 200, 250]\n",
    "min_dists = [0.05, 0.1, 0.3, 0.5, 0.7]\n",
    "\n",
    "scdeed_result, rel_scores, null_rel_scores, reliabilities, n_neighbors_opt, min_dist_opt = scd.scdeed_parameter_selection(data_gene, n_neighborss, min_dists, n_pcs=k_opt, rng_seed=seed, embedding_method=\"UMAP\", similarity_percent=0.5, save_path=\"S3_filtered_scdeed_tutorial\")"
   ]
  },
  {
   "cell_type": "markdown",
   "id": "b97c08e1",
   "metadata": {},
   "source": [
    "Plot the scDEED results. The plot might not exhibit a clear minimum, but we still take the parameter combination that has the least number of dubiously embedded cells"
   ]
  },
  {
   "cell_type": "code",
   "execution_count": null,
   "id": "7cb6ace53c5c8ef3",
   "metadata": {
    "ExecuteTime": {
     "end_time": "2024-04-15T09:00:36.388160Z",
     "start_time": "2024-04-15T09:00:36.076637Z"
    },
    "scrolled": false
   },
   "outputs": [],
   "source": [
    "print(f\"Optimal number of neighbors: {n_neighbors_opt}\")\n",
    "print(f\"Optimal min_dist: {min_dist_opt}\")\n",
    "\n",
    "sns.lineplot(data=scdeed_result, x=\"n_neighbors\", y=\"num_dubious\", hue=\"min_dist\", palette=\"tab10\")\n",
    "plt.title(\"scDEED results\")\n",
    "plt.ylabel(\"Number of dubiously embedded cells\")\n",
    "plt.show()"
   ]
  },
  {
   "cell_type": "code",
   "execution_count": null,
   "id": "57298e2effc567a0",
   "metadata": {
    "ExecuteTime": {
     "end_time": "2024-04-15T09:01:03.905872Z",
     "start_time": "2024-04-15T09:01:02.805381Z"
    }
   },
   "outputs": [],
   "source": [
    "# Use these parameters if you don't want to run scDEED\n",
    "# n_neighbors_opt = 20\n",
    "# min_dist_opt = 0.5"
   ]
  },
  {
   "cell_type": "code",
   "execution_count": null,
   "id": "35f273b8eb66279c",
   "metadata": {
    "ExecuteTime": {
     "end_time": "2024-04-15T09:01:05.532647Z",
     "start_time": "2024-04-15T09:01:05.413647Z"
    }
   },
   "outputs": [],
   "source": [
    "# Save parameters to data object\n",
    "data_gene.uns[\"BacSC_params\"][\"n_neighbors_opt\"] = n_neighbors_opt\n",
    "data_gene.uns[\"BacSC_params\"][\"min_dist_opt\"] = min_dist_opt"
   ]
  },
  {
   "cell_type": "markdown",
   "id": "19cd74bb",
   "metadata": {},
   "source": [
    "Compute and plot the resulting UMAP. The coloring by embedding reliability is only possible, if scDEED was performed\n",
    "\n",
    "NOTE: UMAPs are rotation/mirroring invariant, so they might appear slightly different every time"
   ]
  },
  {
   "cell_type": "code",
   "execution_count": null,
   "id": "63892185db614650",
   "metadata": {
    "ExecuteTime": {
     "end_time": "2024-04-15T09:01:12.422331Z",
     "start_time": "2024-04-15T09:01:08.112118Z"
    }
   },
   "outputs": [],
   "source": [
    "sc.pp.neighbors(data_gene, n_neighbors=n_neighbors_opt, n_pcs=k_opt)\n",
    "sc.tl.umap(data_gene, neighbors_key=\"neighbors\", min_dist=min_dist_opt, spread=1, random_state=3456)\n"
   ]
  },
  {
   "cell_type": "code",
   "execution_count": null,
   "id": "4e5245d9e1809799",
   "metadata": {
    "ExecuteTime": {
     "end_time": "2024-04-15T09:01:12.748494Z",
     "start_time": "2024-04-15T09:01:12.433121Z"
    },
    "scrolled": false
   },
   "outputs": [],
   "source": [
    "# sc.pl.umap(data_gene, color=\"embedding_reliability\", alpha=1)\n",
    "# plt.show()\n",
    "\n",
    "sc.pl.umap(data_gene, color=\"total_counts\", alpha=1, cmap=\"viridis\")\n",
    "plt.show()"
   ]
  },
  {
   "cell_type": "markdown",
   "id": "307d8e3d",
   "metadata": {},
   "source": [
    "**Checkpoint** \n",
    "\n",
    "Save the data to disk and read it again"
   ]
  },
  {
   "cell_type": "code",
   "execution_count": null,
   "id": "5782afe8",
   "metadata": {
    "ExecuteTime": {
     "end_time": "2024-04-15T09:01:18.584265Z",
     "start_time": "2024-04-15T09:01:16.843149Z"
    }
   },
   "outputs": [],
   "source": [
    "data_gene.write(data_path + \"/filtered_data_maxpool_processed_tutorial.h5ad\")"
   ]
  },
  {
   "cell_type": "code",
   "execution_count": null,
   "id": "6a1eabbd",
   "metadata": {},
   "outputs": [],
   "source": [
    "data_gene = sc.read_h5ad(data_path + \"/filtered_data_maxpool_processed_tutorial.h5ad\")\n",
    "data_gene"
   ]
  },
  {
   "cell_type": "markdown",
   "id": "692ef731",
   "metadata": {},
   "source": [
    "## Clustering\n",
    "\n",
    "We now apply Leiden clustering to the data. For this, we need to find a resolution parameter that points out the clusters in the data well"
   ]
  },
  {
   "cell_type": "markdown",
   "id": "33e9e5dc",
   "metadata": {},
   "source": [
    "### Train/test-split for clustering\n",
    "\n",
    "We apply the UMAP embedding with the previously calculated parameters to the train and test data."
   ]
  },
  {
   "cell_type": "code",
   "execution_count": null,
   "id": "d47c858e",
   "metadata": {
    "ExecuteTime": {
     "end_time": "2024-04-15T09:01:29.492002Z",
     "start_time": "2024-04-15T09:01:20.623168Z"
    }
   },
   "outputs": [],
   "source": [
    "k_opt = data_gene.uns[\"BacSC_params\"][\"k_opt\"]\n",
    "n_neighbors_opt = data_gene.uns[\"BacSC_params\"][\"n_neighbors_opt\"]\n",
    "min_dist_opt = data_gene.uns[\"BacSC_params\"][\"min_dist_opt\"]\n",
    "\n",
    "sc.pp.neighbors(data_train, n_neighbors=n_neighbors_opt, n_pcs=k_opt)\n",
    "sc.tl.umap(data_train, neighbors_key=\"neighbors\", min_dist=min_dist_opt, spread=1, random_state=1234)\n",
    "\n",
    "sc.pp.neighbors(data_test, n_neighbors=n_neighbors_opt, n_pcs=k_opt)\n",
    "sc.tl.umap(data_test, neighbors_key=\"neighbors\", min_dist=min_dist_opt, spread=1, random_state=1234)\n",
    "\n",
    "\n",
    "theta_opt, mirror_opt, umap_2_opt, ssd = ut.find_opt_umap_rotation(data_train.obsm[\"X_umap\"].copy(), data_test.obsm[\"X_umap\"].copy())\n",
    "data_test.obsm[\"X_umap_rot\"] = umap_2_opt"
   ]
  },
  {
   "cell_type": "code",
   "execution_count": null,
   "id": "ba4e0af7",
   "metadata": {
    "ExecuteTime": {
     "end_time": "2024-04-15T09:01:29.697038Z",
     "start_time": "2024-04-15T09:01:29.274566Z"
    }
   },
   "outputs": [],
   "source": [
    "sc.pl.umap(data_train, color=\"total_counts\", cmap=\"viridis\", title=\"Training data\")\n",
    "plt.show()\n",
    "\n",
    "sc.pl.embedding(data_test, basis=\"X_umap_rot\", color=\"total_counts\", cmap=\"viridis\", title=\"Test data\")\n",
    "plt.show()"
   ]
  },
  {
   "cell_type": "markdown",
   "id": "6a722d7e5c838c97",
   "metadata": {},
   "source": [
    "### Apply clustering with array of resolutions\n",
    "\n",
    "This step might also take a few minutes, based on the size of the data. You can also adjust the range of considered resolutions"
   ]
  },
  {
   "cell_type": "code",
   "execution_count": null,
   "id": "1fb9c96c",
   "metadata": {
    "ExecuteTime": {
     "end_time": "2024-04-15T09:02:47.478114Z",
     "start_time": "2024-04-15T09:02:29.382984Z"
    }
   },
   "outputs": [],
   "source": [
    "res_min = 0.01\n",
    "res_max = 0.5\n",
    "res_step = 0.02\n",
    "resolutions = np.round(np.arange(res_min, res_max, res_step), 2)\n",
    "print(f\"Resolutions to test: {resolutions}\")\n",
    "\n",
    "#234\n",
    "co.cluster_train_test(data_train, data_test, resolutions, alg=\"leiden\", random_state=234)"
   ]
  },
  {
   "cell_type": "code",
   "execution_count": null,
   "id": "e2ad308e1b5d960e",
   "metadata": {
    "ExecuteTime": {
     "end_time": "2024-04-15T09:02:56.108868Z",
     "start_time": "2024-04-15T09:02:47.488364Z"
    }
   },
   "outputs": [],
   "source": [
    "for resolution in resolutions:\n",
    "    fig, ax = plt.subplots(1, 2, figsize=(8, 3))\n",
    "    sc.pl.umap(data_train, color=f\"leiden_res{resolution}\", ax=ax[0], title=f\"Train data, resolution {resolution}\", show=False)\n",
    "    sc.pl.embedding(data_test, basis=\"X_umap_rot\", color=f\"leiden_res{resolution}\", ax=ax[1], title=f\"Test data, resolution {resolution}\", show=False)\n",
    "    ax[1].set_xlabel(\"UMAP1\")\n",
    "    ax[1].set_ylabel(\"UMAP2\")\n",
    "    plt.tight_layout()\n",
    "    plt.show()"
   ]
  },
  {
   "cell_type": "markdown",
   "id": "fd21abe2",
   "metadata": {},
   "source": [
    "Compute modularities on train data for each clustering and select resolution with biggest increase in resolution on train data over a random clustering"
   ]
  },
  {
   "cell_type": "code",
   "execution_count": null,
   "id": "8890ed7a",
   "metadata": {
    "ExecuteTime": {
     "end_time": "2024-04-15T09:03:12.627179Z",
     "start_time": "2024-04-15T09:02:57.512393Z"
    },
    "scrolled": true
   },
   "outputs": [],
   "source": [
    "mod_df, mod_df_wide, res_opt = co.find_optimal_clustering_resolution(data_train, data_test, resolutions, random_seed=1234)\n",
    "\n",
    "print(f\"Optimal resolution {res_opt}\")\n"
   ]
  },
  {
   "cell_type": "code",
   "execution_count": null,
   "id": "4a7d1061",
   "metadata": {},
   "outputs": [],
   "source": [
    "sns.lineplot(data=mod_df, x=\"resolution\", y=\"score\", hue=\"type\")\n",
    "plt.title(\"Clustering modularities\")\n",
    "plt.xlabel(\"Resolution\")\n",
    "plt.ylabel(\"Modularity\")\n",
    "plt.show()\n",
    "\n",
    "sns.lineplot(data=mod_df_wide, x=\"resolution\", y=\"diff_rand_test\")\n",
    "plt.title(\"Clustering modularities\")\n",
    "plt.xlabel(\"Resolution\")\n",
    "plt.ylabel(\"Difference Test-Random\")\n",
    "plt.show()"
   ]
  },
  {
   "cell_type": "code",
   "execution_count": null,
   "id": "a8ea4042",
   "metadata": {},
   "outputs": [],
   "source": [
    "# Checkpoint value for resolution to reduce computation time\n",
    "res_opt = 0.23\n",
    "data_gene.uns[\"BacSC_params\"][\"res_opt\"] = res_opt\n"
   ]
  },
  {
   "cell_type": "markdown",
   "id": "80a406d5",
   "metadata": {},
   "source": [
    "### Apply clustering to full dataset"
   ]
  },
  {
   "cell_type": "code",
   "execution_count": null,
   "id": "9ff4b04e",
   "metadata": {
    "ExecuteTime": {
     "end_time": "2024-04-15T09:05:07.734073Z",
     "start_time": "2024-04-15T09:05:07.180174Z"
    }
   },
   "outputs": [],
   "source": [
    "sc.tl.leiden(data_gene, resolution=res_opt, key_added=\"leiden_opt\", random_state=1234)"
   ]
  },
  {
   "cell_type": "code",
   "execution_count": null,
   "id": "e9433f72",
   "metadata": {
    "ExecuteTime": {
     "end_time": "2024-04-15T09:05:09.189561Z",
     "start_time": "2024-04-15T09:05:08.975974Z"
    },
    "scrolled": false
   },
   "outputs": [],
   "source": [
    "sc.pl.umap(data_gene, color=\"leiden_opt\", palette=\"tab10\", title=\"Sample 3\")\n",
    "plt.show()"
   ]
  },
  {
   "cell_type": "code",
   "execution_count": null,
   "id": "a0d22cf0",
   "metadata": {},
   "outputs": [],
   "source": [
    "sc.pl.scatter(data_gene, x='total_counts', y='n_genes_by_counts', show=False, size=15, color=\"leiden_opt\")\n",
    "plt.title(\"Sequencing depth of cells (after outlier removal)\")\n",
    "plt.xlabel(\"Sequencing depth\")\n",
    "plt.ylabel(\"Number of unique genes\")\n",
    "plt.show()"
   ]
  },
  {
   "cell_type": "markdown",
   "id": "595e065f",
   "metadata": {},
   "source": [
    "**Checkpoint**\n",
    "\n",
    "Save the data to disk and read it again"
   ]
  },
  {
   "cell_type": "code",
   "execution_count": null,
   "id": "6622708c",
   "metadata": {
    "ExecuteTime": {
     "end_time": "2024-04-15T09:04:04.724369Z",
     "start_time": "2024-04-15T09:04:03.990394Z"
    }
   },
   "outputs": [],
   "source": [
    "data_gene.write(data_path + \"/filtered_data_maxpool_processed_tutorial.h5ad\")"
   ]
  },
  {
   "cell_type": "markdown",
   "id": "fb7e4c8f",
   "metadata": {},
   "source": [
    "## Attach feature table"
   ]
  },
  {
   "cell_type": "code",
   "execution_count": null,
   "id": "0841b5b2",
   "metadata": {},
   "outputs": [],
   "source": [
    "data_gene = sc.read_h5ad(data_path + \"/filtered_data_maxpool_processed_tutorial.h5ad\")\n",
    "data_gene"
   ]
  },
  {
   "cell_type": "code",
   "execution_count": null,
   "id": "43ff9ae0",
   "metadata": {
    "scrolled": true
   },
   "outputs": [],
   "source": [
    "# Adjust the path to the feature table\n",
    "feature_table = pd.read_csv(\"../data/MOBA_scRNAseq/P_aeruginosa_PAO1_feature_table.tsv\", sep=\"\\t\")\n",
    "feature_table = feature_table[[\"Locus tag\", \"Protein accession\", \"Name\", \"Symbol\"]]\n",
    "feature_table[\"Locus tag\"] = [str(x) for x in feature_table[\"Locus tag\"]]\n",
    "feature_table"
   ]
  },
  {
   "cell_type": "code",
   "execution_count": null,
   "id": "4aeef2a8",
   "metadata": {
    "scrolled": false
   },
   "outputs": [],
   "source": [
    "df3=data_gene.var.reset_index().merge(feature_table, how='left', left_on='index', right_on='Symbol').drop_duplicates(\"index\").set_index(\"index\")\n",
    "data_gene.var = df3\n",
    "data_gene.var"
   ]
  },
  {
   "cell_type": "markdown",
   "id": "02ff5d66",
   "metadata": {},
   "source": [
    "Save final dataset"
   ]
  },
  {
   "cell_type": "code",
   "execution_count": null,
   "id": "ec4037df9b7e11c7",
   "metadata": {},
   "outputs": [],
   "source": [
    "data_gene.write(data_path + \"/filtered_data_maxpool_processed_tutorial.h5ad\")"
   ]
  },
  {
   "cell_type": "markdown",
   "id": "fc3c437c",
   "metadata": {},
   "source": [
    "This concludes the main BacSC pipeline. To perform differential expression analysis, continue with the clustering analysis tutorial."
   ]
  },
  {
   "cell_type": "code",
   "execution_count": null,
   "id": "ab78421c",
   "metadata": {},
   "outputs": [],
   "source": []
  }
 ],
 "metadata": {
  "kernelspec": {
   "display_name": "Python 3",
   "language": "python",
   "name": "python3"
  },
  "language_info": {
   "codemirror_mode": {
    "name": "ipython",
    "version": 3
   },
   "file_extension": ".py",
   "mimetype": "text/x-python",
   "name": "python",
   "nbconvert_exporter": "python",
   "pygments_lexer": "ipython3",
   "version": "3.11.11"
  }
 },
 "nbformat": 4,
 "nbformat_minor": 5
}
