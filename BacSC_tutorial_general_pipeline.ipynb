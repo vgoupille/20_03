{
 "cells": [
  {
   "cell_type": "code",
   "execution_count": 183,
   "id": "078853ed",
   "metadata": {
    "ExecuteTime": {
     "end_time": "2024-08-19T14:21:36.642363Z",
     "start_time": "2024-08-19T14:21:36.640448Z"
    }
   },
   "outputs": [],
   "source": [
    "# These imports and path modifications are only necessary for development\n",
    "import importlib\n",
    "\n",
    "import os\n",
    "import sys\n",
    "module_path = os.path.abspath(os.path.join('..'))\n",
    "if module_path not in sys.path:\n",
    "    sys.path.append(module_path)"
   ]
  },
  {
   "cell_type": "code",
   "execution_count": 184,
   "id": "070ed645",
   "metadata": {},
   "outputs": [
    {
     "name": "stdout",
     "output_type": "stream",
     "text": [
      "Requirement already satisfied: pandas in ./.conda/lib/python3.11/site-packages (2.2.3)\n",
      "Requirement already satisfied: scanpy in ./.conda/lib/python3.11/site-packages (1.11.0)\n",
      "Requirement already satisfied: anndata in ./.conda/lib/python3.11/site-packages (0.11.3)\n",
      "Requirement already satisfied: numpy in ./.conda/lib/python3.11/site-packages (2.1.3)\n",
      "Requirement already satisfied: seaborn in ./.conda/lib/python3.11/site-packages (0.13.2)\n",
      "Requirement already satisfied: matplotlib in ./.conda/lib/python3.11/site-packages (3.10.1)\n",
      "Requirement already satisfied: scipy in ./.conda/lib/python3.11/site-packages (1.15.2)\n",
      "Requirement already satisfied: python-dateutil>=2.8.2 in ./.conda/lib/python3.11/site-packages (from pandas) (2.9.0.post0)\n",
      "Requirement already satisfied: pytz>=2020.1 in ./.conda/lib/python3.11/site-packages (from pandas) (2025.1)\n",
      "Requirement already satisfied: tzdata>=2022.7 in ./.conda/lib/python3.11/site-packages (from pandas) (2025.1)\n",
      "Requirement already satisfied: h5py>=3.7 in ./.conda/lib/python3.11/site-packages (from scanpy) (3.13.0)\n",
      "Requirement already satisfied: joblib in ./.conda/lib/python3.11/site-packages (from scanpy) (1.4.2)\n",
      "Requirement already satisfied: legacy-api-wrap>=1.4 in ./.conda/lib/python3.11/site-packages (from scanpy) (1.4.1)\n",
      "Requirement already satisfied: natsort in ./.conda/lib/python3.11/site-packages (from scanpy) (8.4.0)\n",
      "Requirement already satisfied: networkx>=2.7 in ./.conda/lib/python3.11/site-packages (from scanpy) (3.4.2)\n",
      "Requirement already satisfied: numba>=0.57 in ./.conda/lib/python3.11/site-packages (from scanpy) (0.61.0)\n",
      "Requirement already satisfied: packaging>=21.3 in ./.conda/lib/python3.11/site-packages (from scanpy) (24.2)\n",
      "Requirement already satisfied: patsy!=1.0.0 in ./.conda/lib/python3.11/site-packages (from scanpy) (1.0.1)\n",
      "Requirement already satisfied: pynndescent>=0.5 in ./.conda/lib/python3.11/site-packages (from scanpy) (0.5.13)\n",
      "Requirement already satisfied: scikit-learn<1.6.0,>=1.1 in ./.conda/lib/python3.11/site-packages (from scanpy) (1.5.2)\n",
      "Requirement already satisfied: session-info2 in ./.conda/lib/python3.11/site-packages (from scanpy) (0.1.2)\n",
      "Requirement already satisfied: statsmodels>=0.13 in ./.conda/lib/python3.11/site-packages (from scanpy) (0.14.4)\n",
      "Requirement already satisfied: tqdm in ./.conda/lib/python3.11/site-packages (from scanpy) (4.67.1)\n",
      "Requirement already satisfied: typing-extensions in ./.conda/lib/python3.11/site-packages (from scanpy) (4.12.2)\n",
      "Requirement already satisfied: umap-learn!=0.5.0,>=0.5 in ./.conda/lib/python3.11/site-packages (from scanpy) (0.5.7)\n",
      "Requirement already satisfied: array-api-compat!=1.5,>1.4 in ./.conda/lib/python3.11/site-packages (from anndata) (1.11.2)\n",
      "Requirement already satisfied: contourpy>=1.0.1 in ./.conda/lib/python3.11/site-packages (from matplotlib) (1.3.1)\n",
      "Requirement already satisfied: cycler>=0.10 in ./.conda/lib/python3.11/site-packages (from matplotlib) (0.12.1)\n",
      "Requirement already satisfied: fonttools>=4.22.0 in ./.conda/lib/python3.11/site-packages (from matplotlib) (4.56.0)\n",
      "Requirement already satisfied: kiwisolver>=1.3.1 in ./.conda/lib/python3.11/site-packages (from matplotlib) (1.4.8)\n",
      "Requirement already satisfied: pillow>=8 in ./.conda/lib/python3.11/site-packages (from matplotlib) (11.1.0)\n",
      "Requirement already satisfied: pyparsing>=2.3.1 in ./.conda/lib/python3.11/site-packages (from matplotlib) (3.2.1)\n",
      "Requirement already satisfied: llvmlite<0.45,>=0.44.0dev0 in ./.conda/lib/python3.11/site-packages (from numba>=0.57->scanpy) (0.44.0)\n",
      "Requirement already satisfied: six>=1.5 in ./.conda/lib/python3.11/site-packages (from python-dateutil>=2.8.2->pandas) (1.17.0)\n",
      "Requirement already satisfied: threadpoolctl>=3.1.0 in ./.conda/lib/python3.11/site-packages (from scikit-learn<1.6.0,>=1.1->scanpy) (3.6.0)\n",
      "Requirement already satisfied: pprintpp in ./.conda/lib/python3.11/site-packages (0.4.0)\n"
     ]
    }
   ],
   "source": [
    "!pip install pandas scanpy anndata numpy seaborn matplotlib scipy \n",
    "!pip install pprintpp"
   ]
  },
  {
   "cell_type": "code",
   "execution_count": 185,
   "id": "3ad50059",
   "metadata": {},
   "outputs": [
    {
     "name": "stdout",
     "output_type": "stream",
     "text": [
      "Requirement already satisfied: scipy in ./.conda/lib/python3.11/site-packages (1.15.2)\n",
      "Requirement already satisfied: numpy<2.5,>=1.23.5 in ./.conda/lib/python3.11/site-packages (from scipy) (2.1.3)\n",
      "Note: you may need to restart the kernel to use updated packages.\n"
     ]
    }
   ],
   "source": [
    "pip install --upgrade scipy\n"
   ]
  },
  {
   "cell_type": "code",
   "execution_count": 186,
   "id": "45e313d3",
   "metadata": {},
   "outputs": [
    {
     "name": "stdout",
     "output_type": "stream",
     "text": [
      "Requirement already satisfied: KDEpy in ./.conda/lib/python3.11/site-packages (1.1.11)\n",
      "Requirement already satisfied: numpy>=1.14.2 in ./.conda/lib/python3.11/site-packages (from KDEpy) (2.1.3)\n",
      "Requirement already satisfied: scipy<2.0,>=1.0.1 in ./.conda/lib/python3.11/site-packages (from KDEpy) (1.15.2)\n"
     ]
    }
   ],
   "source": [
    "!pip install KDEpy"
   ]
  },
  {
   "cell_type": "code",
   "execution_count": 187,
   "id": "ed797634fa09f9a",
   "metadata": {
    "ExecuteTime": {
     "end_time": "2024-08-19T14:21:37.142124Z",
     "start_time": "2024-08-19T14:21:36.921701Z"
    }
   },
   "outputs": [],
   "source": [
    "import pandas as pd\n",
    "import scanpy as sc\n",
    "import anndata as ad\n",
    "import numpy as np\n",
    "import seaborn as sns\n",
    "import matplotlib.pyplot as plt\n",
    "import scipy.sparse as sps\n",
    "    \n",
    "import tools.util_probe as up\n",
    "import tools.util as ut\n",
    "import tools.NB_est as nb\n",
    "import tools.countsplit as cs\n",
    "import tools.scDEED as scd\n",
    "import tools.clustering_opt as co\n",
    "\n",
    "import warnings\n",
    "warnings.filterwarnings(\"ignore\")"
   ]
  },
  {
   "cell_type": "code",
   "execution_count": 188,
   "id": "bedab9a9",
   "metadata": {},
   "outputs": [],
   "source": [
    "import pprintpp as pp"
   ]
  },
  {
   "cell_type": "markdown",
   "id": "37e2439c",
   "metadata": {},
   "source": [
    "# BacSC general pipeline - Tutorial\n",
    "\n",
    "This tutorial covers how to use the BacSC pipeline to perform automated analysis of (bacterial) single-cell data. In this tutorial, we analyze B.subtilis grown in minimal media, that were sequenced with the ProBac method (McNulty et al., 2023).\n",
    "\n",
    "The easiest way to apply the same pipeline to your data is to copy this notebook and perform every step on your dataset"
   ]
  },
  {
   "cell_type": "markdown",
   "id": "58a76c68cd3d2b93",
   "metadata": {},
   "source": [
    "## Preprocessing\n",
    "### Read data"
   ]
  },
  {
   "cell_type": "code",
   "execution_count": 189,
   "id": "d4bceeb2",
   "metadata": {},
   "outputs": [
    {
     "name": "stdout",
     "output_type": "stream",
     "text": [
      "AnnData object with n_obs × n_vars = 730249 × 4422\n",
      "    obs: 'nCount_RNA', 'nFeature_RNA', 'rep', 'sublibrary', 'well', 'cond'\n",
      "    var: 'names'\n",
      "                                 bs-dnaA  bs-dnaN  bs-rlbA  bs-recF  bs-remB  \\\n",
      "rep1_AAACATCG_AACCGAGA_ACTCGTAA      0.0      0.0      0.0      0.0      0.0   \n",
      "rep1_AAACATCG_AACGCTTA_ACTCGTAA      0.0      0.0      0.0      0.0      0.0   \n",
      "rep1_AAACATCG_AACTCACC_ACTCGTAA      0.0      0.0      0.0      0.0      0.0   \n",
      "rep1_AAACATCG_AATCCGTC_ACTCGTAA      0.0      0.0      0.0      0.0      0.0   \n",
      "rep1_AAACATCG_ACAGATTC_ACTCGTAA      0.0      0.0      0.0      0.0      0.0   \n",
      "rep1_AAACATCG_AGCACCTC_ACTCGTAA      0.0      0.0      0.0      0.0      0.0   \n",
      "rep1_AAACATCG_AGCAGGAA_ACTCGTAA      0.0      0.0      0.0      0.0      0.0   \n",
      "rep1_AAACATCG_AGCCATGC_ACTCGTAA      0.0      0.0      0.0      0.0      0.0   \n",
      "rep1_AAACATCG_AGGCTAAC_ACTCGTAA      0.0      0.0      0.0      0.0      0.0   \n",
      "rep1_AAACATCG_AGTCACTA_ACTCGTAA      0.0      0.0      0.0      0.0      0.0   \n",
      "rep1_AAACATCG_AGTGGTCA_ACTCGTAA      0.0      0.0      0.0      0.0      0.0   \n",
      "rep1_AAACATCG_ATCATTCC_ACTCGTAA      0.0      0.0      0.0      0.0      0.0   \n",
      "rep1_AAACATCG_CAGCGTTA_ACTCGTAA      0.0      0.0      0.0      0.0      0.0   \n",
      "rep1_AAACATCG_CCATCCTC_ACTCGTAA      0.0      0.0      0.0      0.0      0.0   \n",
      "rep1_AAACATCG_CCTCTATC_ACTCGTAA      0.0      0.0      0.0      0.0      0.0   \n",
      "rep1_AAACATCG_CGAACTTA_ACTCGTAA      0.0      0.0      0.0      0.0      0.0   \n",
      "\n",
      "                                 bs-gyrB  bs-gyrA  bs-trnO-Ala  bs-yaaC  \\\n",
      "rep1_AAACATCG_AACCGAGA_ACTCGTAA      0.0      0.0          0.0      0.0   \n",
      "rep1_AAACATCG_AACGCTTA_ACTCGTAA      0.0      0.0          0.0      0.0   \n",
      "rep1_AAACATCG_AACTCACC_ACTCGTAA      0.0      0.0          0.0      0.0   \n",
      "rep1_AAACATCG_AATCCGTC_ACTCGTAA      0.0      0.0          0.0      0.0   \n",
      "rep1_AAACATCG_ACAGATTC_ACTCGTAA      0.0      0.0          0.0      0.0   \n",
      "rep1_AAACATCG_AGCACCTC_ACTCGTAA      0.0      0.0          0.0      0.0   \n",
      "rep1_AAACATCG_AGCAGGAA_ACTCGTAA      0.0      0.0          0.0      0.0   \n",
      "rep1_AAACATCG_AGCCATGC_ACTCGTAA      0.0      0.0          0.0      0.0   \n",
      "rep1_AAACATCG_AGGCTAAC_ACTCGTAA      0.0      0.0          0.0      0.0   \n",
      "rep1_AAACATCG_AGTCACTA_ACTCGTAA      0.0      0.0          0.0      0.0   \n",
      "rep1_AAACATCG_AGTGGTCA_ACTCGTAA      0.0      0.0          0.0      0.0   \n",
      "rep1_AAACATCG_ATCATTCC_ACTCGTAA      0.0      0.0          0.0      0.0   \n",
      "rep1_AAACATCG_CAGCGTTA_ACTCGTAA      0.0      0.0          0.0      0.0   \n",
      "rep1_AAACATCG_CCATCCTC_ACTCGTAA      0.0      0.0          0.0      0.0   \n",
      "rep1_AAACATCG_CCTCTATC_ACTCGTAA      0.0      0.0          0.0      0.0   \n",
      "rep1_AAACATCG_CGAACTTA_ACTCGTAA      0.0      0.0          0.0      0.0   \n",
      "\n",
      "                                 bs-guaB  \n",
      "rep1_AAACATCG_AACCGAGA_ACTCGTAA      0.0  \n",
      "rep1_AAACATCG_AACGCTTA_ACTCGTAA      0.0  \n",
      "rep1_AAACATCG_AACTCACC_ACTCGTAA      0.0  \n",
      "rep1_AAACATCG_AATCCGTC_ACTCGTAA      0.0  \n",
      "rep1_AAACATCG_ACAGATTC_ACTCGTAA      0.0  \n",
      "rep1_AAACATCG_AGCACCTC_ACTCGTAA      0.0  \n",
      "rep1_AAACATCG_AGCAGGAA_ACTCGTAA      0.0  \n",
      "rep1_AAACATCG_AGCCATGC_ACTCGTAA      0.0  \n",
      "rep1_AAACATCG_AGGCTAAC_ACTCGTAA      0.0  \n",
      "rep1_AAACATCG_AGTCACTA_ACTCGTAA      0.0  \n",
      "rep1_AAACATCG_AGTGGTCA_ACTCGTAA      0.0  \n",
      "rep1_AAACATCG_ATCATTCC_ACTCGTAA      0.0  \n",
      "rep1_AAACATCG_CAGCGTTA_ACTCGTAA      0.0  \n",
      "rep1_AAACATCG_CCATCCTC_ACTCGTAA      0.0  \n",
      "rep1_AAACATCG_CCTCTATC_ACTCGTAA      0.0  \n",
      "rep1_AAACATCG_CGAACTTA_ACTCGTAA      0.0  \n"
     ]
    }
   ],
   "source": [
    "# Charger les données\n",
    "adata = sc.read(\"data/result.h5ad\")\n",
    "# Afficher les dimensions\n",
    "pp.pprint(adata)  # Affiche les dimensions de la matrice d'expression\n",
    "\n",
    "# Afficher les 16 premières cellules et les 10 premiers gènes\n",
    "pp.pprint(adata[:16, :10].to_df())\n",
    "\n",
    "data_all = adata"
   ]
  },
  {
   "cell_type": "markdown",
   "id": "349f72ca",
   "metadata": {},
   "source": [
    "#faire un petit dataset\n",
    "data_all = data_all[:10000, :]\n",
    "data_all\n"
   ]
  },
  {
   "cell_type": "code",
   "execution_count": 190,
   "id": "0e36a4d9",
   "metadata": {},
   "outputs": [
    {
     "data": {
      "text/plain": [
       "View of AnnData object with n_obs × n_vars = 430175 × 4422\n",
       "    obs: 'nCount_RNA', 'nFeature_RNA', 'rep', 'sublibrary', 'well', 'cond'\n",
       "    var: 'names'"
      ]
     },
     "execution_count": 190,
     "metadata": {},
     "output_type": "execute_result"
    }
   ],
   "source": [
    "# filtre uniquement AnnData object with n_obs × n_vars = 730249 × 4422   obs: 'rep' = \"rep2\"\n",
    "data_all = data_all[data_all.obs['rep'] == \"rep2\"]\n",
    "data_all"
   ]
  },
  {
   "cell_type": "raw",
   "id": "2e1c2c3e",
   "metadata": {
    "vscode": {
     "languageId": "raw"
    }
   },
   "source": [
    "import scipy.sparse as sp\n",
    "\n",
    "print(type(adata.X))  # Vérifie le type de la matrice\n",
    "\n",
    "if not sp.isspmatrix_csr(adata.X):  \n",
    "    adata.X = sp.csr_matrix(adata.X)  # Conversion en csr_matrix\n",
    "print(type(adata.X))  # Doit afficher <class 'scipy.sparse.csr.csr_matrix'>"
   ]
  },
  {
   "cell_type": "code",
   "execution_count": 191,
   "metadata": {},
   "outputs": [
    {
     "data": {
      "application/vnd.microsoft.datawrangler.viewer.v0+json": {
       "columns": [
        {
         "name": "index",
         "rawType": "object",
         "type": "string"
        },
        {
         "name": "names",
         "rawType": "object",
         "type": "string"
        }
       ],
       "conversionMethod": "pd.DataFrame",
       "ref": "d5c4bea5-ed8a-47c4-a451-6630e86b03c7",
       "rows": [
        [
         "bs-dnaA",
         "bs-dnaA"
        ],
        [
         "bs-dnaN",
         "bs-dnaN"
        ],
        [
         "bs-rlbA",
         "bs-rlbA"
        ],
        [
         "bs-recF",
         "bs-recF"
        ],
        [
         "bs-remB",
         "bs-remB"
        ]
       ],
       "shape": {
        "columns": 1,
        "rows": 5
       }
      },
      "text/html": [
       "<div>\n",
       "<style scoped>\n",
       "    .dataframe tbody tr th:only-of-type {\n",
       "        vertical-align: middle;\n",
       "    }\n",
       "\n",
       "    .dataframe tbody tr th {\n",
       "        vertical-align: top;\n",
       "    }\n",
       "\n",
       "    .dataframe thead th {\n",
       "        text-align: right;\n",
       "    }\n",
       "</style>\n",
       "<table border=\"1\" class=\"dataframe\">\n",
       "  <thead>\n",
       "    <tr style=\"text-align: right;\">\n",
       "      <th></th>\n",
       "      <th>names</th>\n",
       "    </tr>\n",
       "  </thead>\n",
       "  <tbody>\n",
       "    <tr>\n",
       "      <th>bs-dnaA</th>\n",
       "      <td>bs-dnaA</td>\n",
       "    </tr>\n",
       "    <tr>\n",
       "      <th>bs-dnaN</th>\n",
       "      <td>bs-dnaN</td>\n",
       "    </tr>\n",
       "    <tr>\n",
       "      <th>bs-rlbA</th>\n",
       "      <td>bs-rlbA</td>\n",
       "    </tr>\n",
       "    <tr>\n",
       "      <th>bs-recF</th>\n",
       "      <td>bs-recF</td>\n",
       "    </tr>\n",
       "    <tr>\n",
       "      <th>bs-remB</th>\n",
       "      <td>bs-remB</td>\n",
       "    </tr>\n",
       "  </tbody>\n",
       "</table>\n",
       "</div>"
      ],
      "text/plain": [
       "           names\n",
       "bs-dnaA  bs-dnaA\n",
       "bs-dnaN  bs-dnaN\n",
       "bs-rlbA  bs-rlbA\n",
       "bs-recF  bs-recF\n",
       "bs-remB  bs-remB"
      ]
     },
     "execution_count": 191,
     "metadata": {},
     "output_type": "execute_result"
    }
   ],
   "source": [
    "adata.var.head()"
   ]
  },
  {
   "cell_type": "markdown",
   "id": "b544597e5303fae5",
   "metadata": {},
   "source": [
    "### Filter cells\n",
    "\n",
    "**This is the only step where manual setting of parameters is necessary!**\n",
    "\n",
    "We perform some basic quality filtering on the data:\n",
    "- Remove cells with less than 100 genes expressed\n",
    "- Remove genes present in less than 2 cells\n",
    "- Filter out outliers based on the median absolute deviation of counts (see plot below) - In this case, this actually removes no additional cells"
   ]
  },
  {
   "cell_type": "code",
   "execution_count": 192,
   "id": "66456abb636ede47",
   "metadata": {
    "ExecuteTime": {
     "end_time": "2024-08-19T14:21:40.928697Z",
     "start_time": "2024-08-19T14:21:40.903304Z"
    }
   },
   "outputs": [
    {
     "name": "stdout",
     "output_type": "stream",
     "text": [
      "outlier\n",
      "False    415096\n",
      "True      15079\n",
      "Name: count, dtype: int64\n",
      "Total number of cells: 430175\n",
      "Number of cells after filtering: 4047\n"
     ]
    },
    {
     "data": {
      "text/plain": [
       "AnnData object with n_obs × n_vars = 4047 × 4316\n",
       "    obs: 'nCount_RNA', 'nFeature_RNA', 'rep', 'sublibrary', 'well', 'cond', 'n_genes_by_counts', 'log1p_n_genes_by_counts', 'total_counts', 'log1p_total_counts', 'outlier', 'n_genes'\n",
       "    var: 'names', 'n_cells_by_counts', 'mean_counts', 'log1p_mean_counts', 'pct_dropout_by_counts', 'total_counts', 'log1p_total_counts', 'n_cells'"
      ]
     },
     "execution_count": 192,
     "metadata": {},
     "output_type": "execute_result"
    }
   ],
   "source": [
    "data_gene = ut.filter_outliers(data_all, nmads=5, min_cells=2, min_genes=100)\n",
    "print(data_all.obs.outlier.value_counts())\n",
    "print(f\"Total number of cells: {data_all.n_obs}\")\n",
    "print(f\"Number of cells after filtering: {data_gene.n_obs}\")\n",
    "data_gene"
   ]
  },
  {
   "cell_type": "code",
   "execution_count": 193,
   "id": "5e1dd3cb453add1e",
   "metadata": {
    "ExecuteTime": {
     "end_time": "2024-08-19T14:21:41.222129Z",
     "start_time": "2024-08-19T14:21:40.929622Z"
    }
   },
   "outputs": [
    {
     "data": {
      "image/png": "[encoded data removed]",
      "text/plain": [
       "<Figure size 810.02x480 with 2 Axes>"
      ]
     },
     "metadata": {},
     "output_type": "display_data"
    },
    {
     "data": {
      "image/png": "[encoded data removed]",
      "text/plain": [
       "<Figure size 728.72x480 with 1 Axes>"
      ]
     },
     "metadata": {},
     "output_type": "display_data"
    }
   ],
   "source": [
    "g = sc.pl.scatter(data_all, x='total_counts', y='n_genes_by_counts', color=\"outlier\", show=False, size=15, color_map=\"flare\", title=\"Sequencing depth of cells (before outlier removal)\")\n",
    "g.set(xlabel = \"Sequencing depth\")\n",
    "g.set(ylabel=\"Number of unique genes\")\n",
    "plt.tight_layout()\n",
    "plt.show()\n",
    "\n",
    "sc.pl.scatter(data_gene, x='total_counts', y='n_genes_by_counts', show=False, size=15)\n",
    "plt.title(\"Sequencing depth of cells (after outlier removal)\")\n",
    "plt.xlabel(\"Sequencing depth\")\n",
    "plt.ylabel(\"Number of unique genes\")\n",
    "plt.show()"
   ]
  },
  {
   "cell_type": "markdown",
   "id": "73075c06b18ef107",
   "metadata": {},
   "source": [
    "## Variance stabilization\n",
    "\n",
    "Plotting the mean-variance ratio of genes, we see that the data is not overdispersed. Therefore, we will use Poisson count splitting"
   ]
  },
  {
   "cell_type": "code",
   "execution_count": 194,
   "id": "22c88fcf53ea1b2b",
   "metadata": {
    "ExecuteTime": {
     "end_time": "2024-08-19T14:21:41.225589Z",
     "start_time": "2024-08-19T14:21:41.223133Z"
    }
   },
   "outputs": [],
   "source": [
    "# Save raw counts into a layer of the anndata\n",
    "data_gene.layers[\"counts\"] = data_gene.X.copy()"
   ]
  },
  {
   "cell_type": "code",
   "execution_count": 195,
   "id": "427df94b7e71dc72",
   "metadata": {
    "ExecuteTime": {
     "end_time": "2024-08-19T14:21:41.313152Z",
     "start_time": "2024-08-19T14:21:41.226102Z"
    },
    "scrolled": true
   },
   "outputs": [
    {
     "data": {
      "image/png": "[encoded data removed]",
      "text/plain": [
       "<Figure size 640x480 with 1 Axes>"
      ]
     },
     "metadata": {},
     "output_type": "display_data"
    }
   ],
   "source": [
    "data_gene.var[\"var_counts\"] = np.asarray(np.var(data_gene.X.toarray(), axis=0)).squeeze()\n",
    "data_gene.var[\"mean_counts\"] = np.asarray(np.mean(data_gene.X.toarray(), axis=0)).squeeze()\n",
    "sns.scatterplot(data=data_gene.var, x=\"mean_counts\", y=\"var_counts\")\n",
    "plt.plot([0, np.ceil(np.max(data_gene.var[\"mean_counts\"]))], [0, np.ceil(np.max(data_gene.var[\"mean_counts\"]))], color=\"red\")\n",
    "plt.title(\"Mean-variance relationship of genes\")\n",
    "plt.xlabel(\"Mean counts\")\n",
    "plt.ylabel(\"Variance\")\n",
    "plt.show()"
   ]
  },
  {
   "cell_type": "code",
   "execution_count": 196,
   "id": "5329c8fffedf8f7a",
   "metadata": {
    "ExecuteTime": {
     "end_time": "2024-08-19T14:21:41.316485Z",
     "start_time": "2024-08-19T14:21:41.313750Z"
    }
   },
   "outputs": [
    {
     "name": "stdout",
     "output_type": "stream",
     "text": [
      "Data is not overdispersed - use Poisson count splitting\n"
     ]
    }
   ],
   "source": [
    "# See if a linear or quadratic relationship fits better \n",
    "mv_corr_lin = np.corrcoef(data_gene.var[\"mean_counts\"], data_gene.var[\"var_counts\"])[0,1]\n",
    "mv_corr_sq = np.corrcoef(data_gene.var[\"mean_counts\"]**2, data_gene.var[\"var_counts\"])[0,1]\n",
    "\n",
    "if mv_corr_sq > mv_corr_lin:\n",
    "    is_overdispersed = True\n",
    "else:\n",
    "    is_overdispersed = False\n",
    "    \n",
    "if is_overdispersed:\n",
    "    print(\"Data is overdispersed - use Negative Binomial count splitting\")\n",
    "else:\n",
    "    print(\"Data is not overdispersed - use Poisson count splitting\")\n"
   ]
  },
  {
   "cell_type": "markdown",
   "id": "4945a41cad0ed914",
   "metadata": {},
   "source": [
    "## Estimate negative binomial parameters for each gene\n",
    "\n",
    "We use scTransform to estimate the dispersion parameter for each gene, which we will use for variance stabilization"
   ]
  },
  {
   "cell_type": "code",
   "execution_count": 197,
   "id": "88655923",
   "metadata": {},
   "outputs": [
    {
     "data": {
      "text/plain": [
       "<module 'tools.NB_est' from '/Users/valentingoupille/Desktop/20_03/tools/NB_est.py'>"
      ]
     },
     "execution_count": 197,
     "metadata": {},
     "output_type": "execute_result"
    }
   ],
   "source": [
    "import importlib\n",
    "import tools.NB_est as nb\n",
    "\n",
    "# Recharger le module nb après modification\n",
    "importlib.reload(nb)"
   ]
  },
  {
   "cell_type": "code",
   "execution_count": 198,
   "id": "cc5af38a10b9797",
   "metadata": {
    "ExecuteTime": {
     "end_time": "2024-08-19T14:22:21.047375Z",
     "start_time": "2024-08-19T14:21:41.317538Z"
    },
    "scrolled": true
   },
   "outputs": [
    {
     "name": "stderr",
     "output_type": "stream",
     "text": [
      "Traceback (most recent call last):\n",
      "  File \"<string>\", line 1, in <module>\n",
      "  File \"/Users/valentingoupille/Desktop/20_03/.conda/lib/python3.11/multiprocessing/spawn.py\", line 122, in spawn_main\n",
      "Process SpawnPoolWorker-155:\n",
      "Process SpawnPoolWorker-153:\n",
      "Process SpawnPoolWorker-154:\n",
      "    exitcode = _main(fd, parent_sentinel)\n",
      "               ^^^^^^^^^^^^^^^^^^^^^^^^^^\n",
      "  File \"/Users/valentingoupille/Desktop/20_03/.conda/lib/python3.11/multiprocessing/spawn.py\", line 132, in _main\n",
      "    self = reduction.pickle.load(from_parent)\n",
      "           ^^^^^^^^^^^^^^^^^^^^^^^^^^^^^^^^^^\n",
      "  File \"/Users/valentingoupille/Desktop/20_03/tools/scTransform.py\", line 3, in <module>\n",
      "    import statsmodels.nonparametric.kernel_regression\n",
      "  File \"/Users/valentingoupille/Desktop/20_03/.conda/lib/python3.11/site-packages/statsmodels/nonparametric/kernel_regression.py\", line 36, in <module>\n",
      "    from scipy.stats.mstats import mquantiles\n",
      "  File \"/Users/valentingoupille/Desktop/20_03/.conda/lib/python3.11/site-packages/scipy/stats/__init__.py\", line 624, in <module>\n",
      "    from ._stats_py import *\n",
      "Traceback (most recent call last):\n",
      "Traceback (most recent call last):\n",
      "  File \"/Users/valentingoupille/Desktop/20_03/.conda/lib/python3.11/site-packages/scipy/stats/_stats_py.py\", line 53, in <module>\n",
      "  File \"/Users/valentingoupille/Desktop/20_03/.conda/lib/python3.11/multiprocessing/process.py\", line 314, in _bootstrap\n",
      "    self.run()\n",
      "  File \"/Users/valentingoupille/Desktop/20_03/.conda/lib/python3.11/multiprocessing/process.py\", line 108, in run\n",
      "    self._target(*self._args, **self._kwargs)\n",
      "  File \"/Users/valentingoupille/Desktop/20_03/.conda/lib/python3.11/multiprocessing/pool.py\", line 114, in worker\n",
      "    task = get()\n",
      "           ^^^^^\n",
      "  File \"/Users/valentingoupille/Desktop/20_03/.conda/lib/python3.11/multiprocessing/queues.py\", line 364, in get\n",
      "    with self._rlock:\n",
      "  File \"/Users/valentingoupille/Desktop/20_03/.conda/lib/python3.11/multiprocessing/synchronize.py\", line 95, in __enter__\n",
      "    return self._semlock.__enter__()\n",
      "           ^^^^^^^^^^^^^^^^^^^^^^^^^\n",
      "KeyboardInterrupt\n",
      "  File \"/Users/valentingoupille/Desktop/20_03/.conda/lib/python3.11/multiprocessing/process.py\", line 314, in _bootstrap\n",
      "    self.run()\n",
      "  File \"/Users/valentingoupille/Desktop/20_03/.conda/lib/python3.11/multiprocessing/process.py\", line 108, in run\n",
      "    self._target(*self._args, **self._kwargs)\n",
      "  File \"/Users/valentingoupille/Desktop/20_03/.conda/lib/python3.11/multiprocessing/pool.py\", line 114, in worker\n",
      "    task = get()\n",
      "           ^^^^^\n",
      "  File \"/Users/valentingoupille/Desktop/20_03/.conda/lib/python3.11/multiprocessing/queues.py\", line 364, in get\n",
      "    with self._rlock:\n",
      "  File \"/Users/valentingoupille/Desktop/20_03/.conda/lib/python3.11/multiprocessing/synchronize.py\", line 95, in __enter__\n",
      "    return self._semlock.__enter__()\n",
      "           ^^^^^^^^^^^^^^^^^^^^^^^^^\n",
      "KeyboardInterrupt\n",
      "Traceback (most recent call last):\n",
      "  File \"/Users/valentingoupille/Desktop/20_03/.conda/lib/python3.11/multiprocessing/process.py\", line 314, in _bootstrap\n",
      "    self.run()\n",
      "  File \"/Users/valentingoupille/Desktop/20_03/.conda/lib/python3.11/multiprocessing/process.py\", line 108, in run\n",
      "    self._target(*self._args, **self._kwargs)\n",
      "  File \"/Users/valentingoupille/Desktop/20_03/.conda/lib/python3.11/multiprocessing/pool.py\", line 114, in worker\n",
      "    task = get()\n",
      "           ^^^^^\n",
      "  File \"/Users/valentingoupille/Desktop/20_03/.conda/lib/python3.11/multiprocessing/queues.py\", line 365, in get\n",
      "    res = self._reader.recv_bytes()\n",
      "          ^^^^^^^^^^^^^^^^^^^^^^^^^\n",
      "  File \"/Users/valentingoupille/Desktop/20_03/.conda/lib/python3.11/multiprocessing/connection.py\", line 216, in recv_bytes\n",
      "    buf = self._recv_bytes(maxlength)\n",
      "          ^^^^^^^^^^^^^^^^^^^^^^^^^^^\n",
      "  File \"/Users/valentingoupille/Desktop/20_03/.conda/lib/python3.11/multiprocessing/connection.py\", line 430, in _recv_bytes\n",
      "    buf = self._recv(4)\n",
      "          ^^^^^^^^^^^^^\n",
      "  File \"/Users/valentingoupille/Desktop/20_03/.conda/lib/python3.11/multiprocessing/connection.py\", line 395, in _recv\n",
      "    chunk = read(handle, remaining)\n",
      "            ^^^^^^^^^^^^^^^^^^^^^^^\n",
      "KeyboardInterrupt\n",
      "    from . import _mstats_basic as mstats_basic\n",
      "  File \"/Users/valentingoupille/Desktop/20_03/.conda/lib/python3.11/site-packages/scipy/stats/_mstats_basic.py\", line 3160, in <module>\n",
      "    NormaltestResult = namedtuple('NormaltestResult', ('statistic', 'pvalue'))\n",
      "                       ^^^^^^^^^^^^^^^^^^^^^^^^^^^^^^^^^^^^^^^^^^^^^^^^^^^^^^^\n",
      "  File \"/Users/valentingoupille/Desktop/20_03/.conda/lib/python3.11/collections/__init__.py\", line 436, in namedtuple\n",
      "    __new__ = eval(code, namespace)\n",
      "              ^^^^^^^^^^^^^^^^^^^^^\n",
      "  File \"<string>\", line 0, in <module>\n",
      "KeyboardInterrupt\n"
     ]
    },
    {
     "ename": "KeyboardInterrupt",
     "evalue": "",
     "output_type": "error",
     "traceback": [
      "\u001b[31m---------------------------------------------------------------------------\u001b[39m",
      "\u001b[31mKeyboardInterrupt\u001b[39m                         Traceback (most recent call last)",
      "\u001b[36mCell\u001b[39m\u001b[36m \u001b[39m\u001b[32mIn[198]\u001b[39m\u001b[32m, line 1\u001b[39m\n\u001b[32m----> \u001b[39m\u001b[32m1\u001b[39m \u001b[43mnb\u001b[49m\u001b[43m.\u001b[49m\u001b[43mestimate_overdisp_nb\u001b[49m\u001b[43m(\u001b[49m\u001b[43mdata_gene\u001b[49m\u001b[43m,\u001b[49m\u001b[43m \u001b[49m\u001b[43mlayer\u001b[49m\u001b[43m=\u001b[49m\u001b[33;43m\"\u001b[39;49m\u001b[33;43mcounts\u001b[39;49m\u001b[33;43m\"\u001b[39;49m\u001b[43m,\u001b[49m\u001b[43m \u001b[49m\u001b[43mflavor\u001b[49m\u001b[43m=\u001b[49m\u001b[33;43m\"\u001b[39;49m\u001b[33;43msctransform\u001b[39;49m\u001b[33;43m\"\u001b[39;49m\u001b[43m,\u001b[49m\u001b[43m \u001b[49m\u001b[43mseed\u001b[49m\u001b[43m=\u001b[49m\u001b[32;43m5678\u001b[39;49m\u001b[43m)\u001b[49m\n",
      "\u001b[36mFile \u001b[39m\u001b[32m~/Desktop/20_03/tools/NB_est.py:94\u001b[39m, in \u001b[36mestimate_overdisp_nb\u001b[39m\u001b[34m(adata, layer, cutoff, flavor, use_init_params, seed)\u001b[39m\n\u001b[32m     91\u001b[39m     adata.var[\u001b[33m\"\u001b[39m\u001b[33mnb_overdisp_cutoff\u001b[39m\u001b[33m\"\u001b[39m][(adata.var[\u001b[33m\"\u001b[39m\u001b[33mnb_overdisp\u001b[39m\u001b[33m\"\u001b[39m] > \u001b[32m0.1\u001b[39m * adata.var[\u001b[33m\"\u001b[39m\u001b[33mtotal_counts\u001b[39m\u001b[33m\"\u001b[39m])] = cutoff\n\u001b[32m     93\u001b[39m \u001b[38;5;28;01melif\u001b[39;00m flavor == \u001b[33m\"\u001b[39m\u001b[33msctransform\u001b[39m\u001b[33m\"\u001b[39m:\n\u001b[32m---> \u001b[39m\u001b[32m94\u001b[39m     adata_sct = \u001b[43msct\u001b[49m\u001b[43m.\u001b[49m\u001b[43mSCTransform\u001b[49m\u001b[43m(\u001b[49m\u001b[43madata\u001b[49m\u001b[43m,\u001b[49m\n\u001b[32m     95\u001b[39m \u001b[43m                                \u001b[49m\u001b[43mlayer\u001b[49m\u001b[43m=\u001b[49m\u001b[43mlayer\u001b[49m\u001b[43m,\u001b[49m\n\u001b[32m     96\u001b[39m \u001b[43m                                \u001b[49m\u001b[43mmin_cells\u001b[49m\u001b[43m=\u001b[49m\u001b[32;43m1\u001b[39;49m\u001b[43m,\u001b[49m\n\u001b[32m     97\u001b[39m \u001b[43m                                \u001b[49m\u001b[43mgmean_eps\u001b[49m\u001b[43m=\u001b[49m\u001b[32;43m1\u001b[39;49m\u001b[43m,\u001b[49m\n\u001b[32m     98\u001b[39m \u001b[43m                                \u001b[49m\u001b[43mn_genes\u001b[49m\u001b[43m=\u001b[49m\u001b[32;43m2000\u001b[39;49m\u001b[43m,\u001b[49m\n\u001b[32m     99\u001b[39m \u001b[43m                                \u001b[49m\u001b[43mn_cells\u001b[49m\u001b[43m=\u001b[49m\u001b[38;5;28;43;01mNone\u001b[39;49;00m\u001b[43m,\u001b[49m\u001b[43m  \u001b[49m\u001b[38;5;66;43;03m# use all cells\u001b[39;49;00m\n\u001b[32m    100\u001b[39m \u001b[43m                                \u001b[49m\u001b[43mbin_size\u001b[49m\u001b[43m=\u001b[49m\u001b[32;43m500\u001b[39;49m\u001b[43m,\u001b[49m\n\u001b[32m    101\u001b[39m \u001b[43m                                \u001b[49m\u001b[43mbw_adjust\u001b[49m\u001b[43m=\u001b[49m\u001b[32;43m3\u001b[39;49m\u001b[43m,\u001b[49m\n\u001b[32m    102\u001b[39m \u001b[43m                                \u001b[49m\u001b[43minplace\u001b[49m\u001b[43m=\u001b[49m\u001b[38;5;28;43;01mFalse\u001b[39;49;00m\u001b[43m,\u001b[49m\n\u001b[32m    103\u001b[39m \u001b[43m                               \u001b[49m\u001b[43mseed\u001b[49m\u001b[43m=\u001b[49m\u001b[43mseed\u001b[49m\u001b[43m)\u001b[49m\n\u001b[32m    104\u001b[39m     adata.var[\u001b[33m\"\u001b[39m\u001b[33mis_scd_outlier\u001b[39m\u001b[33m\"\u001b[39m] = adata_sct.var[\u001b[33m\"\u001b[39m\u001b[33mis_scd_outlier\u001b[39m\u001b[33m\"\u001b[39m]\n\u001b[32m    105\u001b[39m     adata.var[\u001b[33m\"\u001b[39m\u001b[33mnb_overdisp\u001b[39m\u001b[33m\"\u001b[39m] = adata_sct.var[\u001b[33m\"\u001b[39m\u001b[33mtheta_sct\u001b[39m\u001b[33m\"\u001b[39m]\n",
      "\u001b[36mFile \u001b[39m\u001b[32m~/Desktop/20_03/tools/scTransform.py:176\u001b[39m, in \u001b[36mSCTransform\u001b[39m\u001b[34m(adata, layer, min_cells, gmean_eps, n_genes, n_cells, bin_size, bw_adjust, inplace, seed)\u001b[39m\n\u001b[32m    173\u001b[39m mm = np.vstack((np.ones(data_step1.shape[\u001b[32m0\u001b[39m]), data_step1[\u001b[33m'\u001b[39m\u001b[33mlog_umi\u001b[39m\u001b[33m'\u001b[39m].values.flatten())).T\n\u001b[32m    175\u001b[39m pc_chunksize = umi_bin.shape[\u001b[32m1\u001b[39m] // os.cpu_count() + \u001b[32m1\u001b[39m\n\u001b[32m--> \u001b[39m\u001b[32m176\u001b[39m pool = \u001b[43mPool\u001b[49m\u001b[43m(\u001b[49m\u001b[43mos\u001b[49m\u001b[43m.\u001b[49m\u001b[43mcpu_count\u001b[49m\u001b[43m(\u001b[49m\u001b[43m)\u001b[49m\u001b[43m,\u001b[49m\u001b[43m \u001b[49m\u001b[43m_parallel_init\u001b[49m\u001b[43m,\u001b[49m\u001b[43m \u001b[49m\u001b[43m[\u001b[49m\u001b[43mgenes_bin_regress\u001b[49m\u001b[43m,\u001b[49m\u001b[43m \u001b[49m\u001b[43mumi_bin\u001b[49m\u001b[43m,\u001b[49m\u001b[43m \u001b[49m\u001b[43mgn\u001b[49m\u001b[43m,\u001b[49m\u001b[43m \u001b[49m\u001b[43mmm\u001b[49m\u001b[43m,\u001b[49m\u001b[43m \u001b[49m\u001b[43mps\u001b[49m\u001b[43m]\u001b[49m\u001b[43m)\u001b[49m\n\u001b[32m    177\u001b[39m \u001b[38;5;28;01mtry\u001b[39;00m:\n\u001b[32m    178\u001b[39m     pool.map(_parallel_wrapper, \u001b[38;5;28mrange\u001b[39m(umi_bin.shape[\u001b[32m1\u001b[39m]), chunksize=pc_chunksize)\n",
      "\u001b[36mFile \u001b[39m\u001b[32m~/Desktop/20_03/.conda/lib/python3.11/multiprocessing/context.py:119\u001b[39m, in \u001b[36mBaseContext.Pool\u001b[39m\u001b[34m(self, processes, initializer, initargs, maxtasksperchild)\u001b[39m\n\u001b[32m    117\u001b[39m \u001b[38;5;250m\u001b[39m\u001b[33;03m'''Returns a process pool object'''\u001b[39;00m\n\u001b[32m    118\u001b[39m \u001b[38;5;28;01mfrom\u001b[39;00m\u001b[38;5;250m \u001b[39m\u001b[34;01m.\u001b[39;00m\u001b[34;01mpool\u001b[39;00m\u001b[38;5;250m \u001b[39m\u001b[38;5;28;01mimport\u001b[39;00m Pool\n\u001b[32m--> \u001b[39m\u001b[32m119\u001b[39m \u001b[38;5;28;01mreturn\u001b[39;00m \u001b[43mPool\u001b[49m\u001b[43m(\u001b[49m\u001b[43mprocesses\u001b[49m\u001b[43m,\u001b[49m\u001b[43m \u001b[49m\u001b[43minitializer\u001b[49m\u001b[43m,\u001b[49m\u001b[43m \u001b[49m\u001b[43minitargs\u001b[49m\u001b[43m,\u001b[49m\u001b[43m \u001b[49m\u001b[43mmaxtasksperchild\u001b[49m\u001b[43m,\u001b[49m\n\u001b[32m    120\u001b[39m \u001b[43m            \u001b[49m\u001b[43mcontext\u001b[49m\u001b[43m=\u001b[49m\u001b[38;5;28;43mself\u001b[39;49m\u001b[43m.\u001b[49m\u001b[43mget_context\u001b[49m\u001b[43m(\u001b[49m\u001b[43m)\u001b[49m\u001b[43m)\u001b[49m\n",
      "\u001b[36mFile \u001b[39m\u001b[32m~/Desktop/20_03/.conda/lib/python3.11/multiprocessing/pool.py:215\u001b[39m, in \u001b[36mPool.__init__\u001b[39m\u001b[34m(self, processes, initializer, initargs, maxtasksperchild, context)\u001b[39m\n\u001b[32m    213\u001b[39m \u001b[38;5;28mself\u001b[39m._processes = processes\n\u001b[32m    214\u001b[39m \u001b[38;5;28;01mtry\u001b[39;00m:\n\u001b[32m--> \u001b[39m\u001b[32m215\u001b[39m     \u001b[38;5;28;43mself\u001b[39;49m\u001b[43m.\u001b[49m\u001b[43m_repopulate_pool\u001b[49m\u001b[43m(\u001b[49m\u001b[43m)\u001b[49m\n\u001b[32m    216\u001b[39m \u001b[38;5;28;01mexcept\u001b[39;00m \u001b[38;5;167;01mException\u001b[39;00m:\n\u001b[32m    217\u001b[39m     \u001b[38;5;28;01mfor\u001b[39;00m p \u001b[38;5;129;01min\u001b[39;00m \u001b[38;5;28mself\u001b[39m._pool:\n",
      "\u001b[36mFile \u001b[39m\u001b[32m~/Desktop/20_03/.conda/lib/python3.11/multiprocessing/pool.py:306\u001b[39m, in \u001b[36mPool._repopulate_pool\u001b[39m\u001b[34m(self)\u001b[39m\n\u001b[32m    305\u001b[39m \u001b[38;5;28;01mdef\u001b[39;00m\u001b[38;5;250m \u001b[39m\u001b[34m_repopulate_pool\u001b[39m(\u001b[38;5;28mself\u001b[39m):\n\u001b[32m--> \u001b[39m\u001b[32m306\u001b[39m     \u001b[38;5;28;01mreturn\u001b[39;00m \u001b[38;5;28;43mself\u001b[39;49m\u001b[43m.\u001b[49m\u001b[43m_repopulate_pool_static\u001b[49m\u001b[43m(\u001b[49m\u001b[38;5;28;43mself\u001b[39;49m\u001b[43m.\u001b[49m\u001b[43m_ctx\u001b[49m\u001b[43m,\u001b[49m\u001b[43m \u001b[49m\u001b[38;5;28;43mself\u001b[39;49m\u001b[43m.\u001b[49m\u001b[43mProcess\u001b[49m\u001b[43m,\u001b[49m\n\u001b[32m    307\u001b[39m \u001b[43m                                        \u001b[49m\u001b[38;5;28;43mself\u001b[39;49m\u001b[43m.\u001b[49m\u001b[43m_processes\u001b[49m\u001b[43m,\u001b[49m\n\u001b[32m    308\u001b[39m \u001b[43m                                        \u001b[49m\u001b[38;5;28;43mself\u001b[39;49m\u001b[43m.\u001b[49m\u001b[43m_pool\u001b[49m\u001b[43m,\u001b[49m\u001b[43m \u001b[49m\u001b[38;5;28;43mself\u001b[39;49m\u001b[43m.\u001b[49m\u001b[43m_inqueue\u001b[49m\u001b[43m,\u001b[49m\n\u001b[32m    309\u001b[39m \u001b[43m                                        \u001b[49m\u001b[38;5;28;43mself\u001b[39;49m\u001b[43m.\u001b[49m\u001b[43m_outqueue\u001b[49m\u001b[43m,\u001b[49m\u001b[43m \u001b[49m\u001b[38;5;28;43mself\u001b[39;49m\u001b[43m.\u001b[49m\u001b[43m_initializer\u001b[49m\u001b[43m,\u001b[49m\n\u001b[32m    310\u001b[39m \u001b[43m                                        \u001b[49m\u001b[38;5;28;43mself\u001b[39;49m\u001b[43m.\u001b[49m\u001b[43m_initargs\u001b[49m\u001b[43m,\u001b[49m\n\u001b[32m    311\u001b[39m \u001b[43m                                        \u001b[49m\u001b[38;5;28;43mself\u001b[39;49m\u001b[43m.\u001b[49m\u001b[43m_maxtasksperchild\u001b[49m\u001b[43m,\u001b[49m\n\u001b[32m    312\u001b[39m \u001b[43m                                        \u001b[49m\u001b[38;5;28;43mself\u001b[39;49m\u001b[43m.\u001b[49m\u001b[43m_wrap_exception\u001b[49m\u001b[43m)\u001b[49m\n",
      "\u001b[36mFile \u001b[39m\u001b[32m~/Desktop/20_03/.conda/lib/python3.11/multiprocessing/pool.py:329\u001b[39m, in \u001b[36mPool._repopulate_pool_static\u001b[39m\u001b[34m(ctx, Process, processes, pool, inqueue, outqueue, initializer, initargs, maxtasksperchild, wrap_exception)\u001b[39m\n\u001b[32m    327\u001b[39m w.name = w.name.replace(\u001b[33m'\u001b[39m\u001b[33mProcess\u001b[39m\u001b[33m'\u001b[39m, \u001b[33m'\u001b[39m\u001b[33mPoolWorker\u001b[39m\u001b[33m'\u001b[39m)\n\u001b[32m    328\u001b[39m w.daemon = \u001b[38;5;28;01mTrue\u001b[39;00m\n\u001b[32m--> \u001b[39m\u001b[32m329\u001b[39m \u001b[43mw\u001b[49m\u001b[43m.\u001b[49m\u001b[43mstart\u001b[49m\u001b[43m(\u001b[49m\u001b[43m)\u001b[49m\n\u001b[32m    330\u001b[39m pool.append(w)\n\u001b[32m    331\u001b[39m util.debug(\u001b[33m'\u001b[39m\u001b[33madded worker\u001b[39m\u001b[33m'\u001b[39m)\n",
      "\u001b[36mFile \u001b[39m\u001b[32m~/Desktop/20_03/.conda/lib/python3.11/multiprocessing/process.py:121\u001b[39m, in \u001b[36mBaseProcess.start\u001b[39m\u001b[34m(self)\u001b[39m\n\u001b[32m    118\u001b[39m \u001b[38;5;28;01massert\u001b[39;00m \u001b[38;5;129;01mnot\u001b[39;00m _current_process._config.get(\u001b[33m'\u001b[39m\u001b[33mdaemon\u001b[39m\u001b[33m'\u001b[39m), \\\n\u001b[32m    119\u001b[39m        \u001b[33m'\u001b[39m\u001b[33mdaemonic processes are not allowed to have children\u001b[39m\u001b[33m'\u001b[39m\n\u001b[32m    120\u001b[39m _cleanup()\n\u001b[32m--> \u001b[39m\u001b[32m121\u001b[39m \u001b[38;5;28mself\u001b[39m._popen = \u001b[38;5;28;43mself\u001b[39;49m\u001b[43m.\u001b[49m\u001b[43m_Popen\u001b[49m\u001b[43m(\u001b[49m\u001b[38;5;28;43mself\u001b[39;49m\u001b[43m)\u001b[49m\n\u001b[32m    122\u001b[39m \u001b[38;5;28mself\u001b[39m._sentinel = \u001b[38;5;28mself\u001b[39m._popen.sentinel\n\u001b[32m    123\u001b[39m \u001b[38;5;66;03m# Avoid a refcycle if the target function holds an indirect\u001b[39;00m\n\u001b[32m    124\u001b[39m \u001b[38;5;66;03m# reference to the process object (see bpo-30775)\u001b[39;00m\n",
      "\u001b[36mFile \u001b[39m\u001b[32m~/Desktop/20_03/.conda/lib/python3.11/multiprocessing/context.py:288\u001b[39m, in \u001b[36mSpawnProcess._Popen\u001b[39m\u001b[34m(process_obj)\u001b[39m\n\u001b[32m    285\u001b[39m \u001b[38;5;129m@staticmethod\u001b[39m\n\u001b[32m    286\u001b[39m \u001b[38;5;28;01mdef\u001b[39;00m\u001b[38;5;250m \u001b[39m\u001b[34m_Popen\u001b[39m(process_obj):\n\u001b[32m    287\u001b[39m     \u001b[38;5;28;01mfrom\u001b[39;00m\u001b[38;5;250m \u001b[39m\u001b[34;01m.\u001b[39;00m\u001b[34;01mpopen_spawn_posix\u001b[39;00m\u001b[38;5;250m \u001b[39m\u001b[38;5;28;01mimport\u001b[39;00m Popen\n\u001b[32m--> \u001b[39m\u001b[32m288\u001b[39m     \u001b[38;5;28;01mreturn\u001b[39;00m \u001b[43mPopen\u001b[49m\u001b[43m(\u001b[49m\u001b[43mprocess_obj\u001b[49m\u001b[43m)\u001b[49m\n",
      "\u001b[36mFile \u001b[39m\u001b[32m~/Desktop/20_03/.conda/lib/python3.11/multiprocessing/popen_spawn_posix.py:32\u001b[39m, in \u001b[36mPopen.__init__\u001b[39m\u001b[34m(self, process_obj)\u001b[39m\n\u001b[32m     30\u001b[39m \u001b[38;5;28;01mdef\u001b[39;00m\u001b[38;5;250m \u001b[39m\u001b[34m__init__\u001b[39m(\u001b[38;5;28mself\u001b[39m, process_obj):\n\u001b[32m     31\u001b[39m     \u001b[38;5;28mself\u001b[39m._fds = []\n\u001b[32m---> \u001b[39m\u001b[32m32\u001b[39m     \u001b[38;5;28;43msuper\u001b[39;49m\u001b[43m(\u001b[49m\u001b[43m)\u001b[49m\u001b[43m.\u001b[49m\u001b[34;43m__init__\u001b[39;49m\u001b[43m(\u001b[49m\u001b[43mprocess_obj\u001b[49m\u001b[43m)\u001b[49m\n",
      "\u001b[36mFile \u001b[39m\u001b[32m~/Desktop/20_03/.conda/lib/python3.11/multiprocessing/popen_fork.py:19\u001b[39m, in \u001b[36mPopen.__init__\u001b[39m\u001b[34m(self, process_obj)\u001b[39m\n\u001b[32m     17\u001b[39m \u001b[38;5;28mself\u001b[39m.returncode = \u001b[38;5;28;01mNone\u001b[39;00m\n\u001b[32m     18\u001b[39m \u001b[38;5;28mself\u001b[39m.finalizer = \u001b[38;5;28;01mNone\u001b[39;00m\n\u001b[32m---> \u001b[39m\u001b[32m19\u001b[39m \u001b[38;5;28;43mself\u001b[39;49m\u001b[43m.\u001b[49m\u001b[43m_launch\u001b[49m\u001b[43m(\u001b[49m\u001b[43mprocess_obj\u001b[49m\u001b[43m)\u001b[49m\n",
      "\u001b[36mFile \u001b[39m\u001b[32m~/Desktop/20_03/.conda/lib/python3.11/multiprocessing/popen_spawn_posix.py:62\u001b[39m, in \u001b[36mPopen._launch\u001b[39m\u001b[34m(self, process_obj)\u001b[39m\n\u001b[32m     60\u001b[39m     \u001b[38;5;28mself\u001b[39m.sentinel = parent_r\n\u001b[32m     61\u001b[39m     \u001b[38;5;28;01mwith\u001b[39;00m \u001b[38;5;28mopen\u001b[39m(parent_w, \u001b[33m'\u001b[39m\u001b[33mwb\u001b[39m\u001b[33m'\u001b[39m, closefd=\u001b[38;5;28;01mFalse\u001b[39;00m) \u001b[38;5;28;01mas\u001b[39;00m f:\n\u001b[32m---> \u001b[39m\u001b[32m62\u001b[39m         f.write(fp.getbuffer())\n\u001b[32m     63\u001b[39m \u001b[38;5;28;01mfinally\u001b[39;00m:\n\u001b[32m     64\u001b[39m     fds_to_close = []\n",
      "\u001b[31mKeyboardInterrupt\u001b[39m: "
     ]
    }
   ],
   "source": [
    "nb.estimate_overdisp_nb(data_gene, layer=\"counts\", flavor=\"sctransform\", seed=5678)"
   ]
  },
  {
   "cell_type": "code",
   "execution_count": null,
   "id": "4afad224",
   "metadata": {
    "ExecuteTime": {
     "end_time": "2024-08-19T14:22:21.055975Z",
     "start_time": "2024-08-19T14:22:21.048390Z"
    }
   },
   "outputs": [
    {
     "data": {
      "application/vnd.microsoft.datawrangler.viewer.v0+json": {
       "columns": [
        {
         "name": "index",
         "rawType": "object",
         "type": "string"
        },
        {
         "name": "names",
         "rawType": "object",
         "type": "string"
        },
        {
         "name": "n_cells_by_counts",
         "rawType": "int32",
         "type": "integer"
        },
        {
         "name": "mean_counts",
         "rawType": "float64",
         "type": "float"
        },
        {
         "name": "log1p_mean_counts",
         "rawType": "float64",
         "type": "float"
        },
        {
         "name": "pct_dropout_by_counts",
         "rawType": "float64",
         "type": "float"
        },
        {
         "name": "total_counts",
         "rawType": "float64",
         "type": "float"
        },
        {
         "name": "log1p_total_counts",
         "rawType": "float64",
         "type": "float"
        },
        {
         "name": "n_cells",
         "rawType": "int64",
         "type": "integer"
        },
        {
         "name": "var_counts",
         "rawType": "float64",
         "type": "float"
        },
        {
         "name": "is_scd_outlier",
         "rawType": "object",
         "type": "unknown"
        },
        {
         "name": "nb_overdisp",
         "rawType": "float64",
         "type": "float"
        },
        {
         "name": "nb_overdisp_cutoff",
         "rawType": "float64",
         "type": "float"
        },
        {
         "name": "nb_mean",
         "rawType": "float64",
         "type": "float"
        },
        {
         "name": "nb_umi",
         "rawType": "float64",
         "type": "float"
        },
        {
         "name": "Intercept_step1_sct",
         "rawType": "float64",
         "type": "float"
        },
        {
         "name": "log_umi_step1_sct",
         "rawType": "float64",
         "type": "float"
        },
        {
         "name": "dispersion_step1_sct",
         "rawType": "float64",
         "type": "float"
        }
       ],
       "conversionMethod": "pd.DataFrame",
       "ref": "0621a6f7-9e1c-411a-b3cd-771018c1c530",
       "rows": [
        [
         "bs-dnaA",
         "bs-dnaA",
         "217",
         "0.027448026043983196",
         "0.027078083183329507",
         "94.6380034593526",
         "111.0821614",
         "4.719232186282495",
         "217",
         "0.02157785196523142",
         "False",
         "0.9265883041985371",
         "0.9265883041985371",
         "-8.980474747118032",
         "2.638351012049531",
         null,
         null,
         null
        ],
        [
         "bs-dnaN",
         "bs-dnaN",
         "70",
         "0.010389734890042005",
         "0.010336132550876004",
         "98.27032369656536",
         "42.04725710000001",
         "3.7622985145581844",
         "70",
         "0.008627955321859247",
         "False",
         "0.9198226419432719",
         "0.9198226419432719",
         "-9.336214095052124",
         "2.3183588649674896",
         null,
         null,
         null
        ],
        [
         "bs-rlbA",
         "bs-rlbA",
         "5",
         "0.001235483073881888",
         "0.0012347204927084267",
         "99.87645169261181",
         "5.0",
         "1.791759469228055",
         "5",
         "0.00123395665545604",
         "False",
         "0.3158491197618492",
         "0.3158491197618492",
         "-10.88564131618165",
         "1.9544869464198322",
         null,
         null,
         null
        ],
        [
         "bs-recF",
         "bs-recF",
         "150",
         "0.03064409785025945",
         "0.030183944518085676",
         "96.29355077835433",
         "124.016664",
         "4.828447040417046",
         "150",
         "0.028777772943467075",
         "False",
         "0.9275592752163961",
         "0.9275592752163961",
         "-8.9109955018482",
         "2.6301502689113048",
         null,
         null,
         null
        ],
        [
         "bs-remB",
         "bs-remB",
         "10",
         "0.0016582928094885099",
         "0.0016569193601453137",
         "99.75290338522362",
         "6.711111000000001",
         "2.0426622757673174",
         "10",
         "0.0016432185433615074",
         "False",
         "0.37840543290420425",
         "0.37840543290420425",
         "-10.54793489070541",
         "1.9554399294148423",
         null,
         null,
         null
        ],
        [
         "bs-gyrB",
         "bs-gyrB",
         "232",
         "0.048538304917222636",
         "0.047397103756157744",
         "94.26735853718804",
         "196.43452000000002",
         "5.285406985064416",
         "232",
         "0.047642468644806944",
         "False",
         "0.9181986098141144",
         "0.9181986098141144",
         "-8.47874319454",
         "2.645510107969103",
         null,
         null,
         null
        ],
        [
         "bs-gyrA",
         "bs-gyrA",
         "314",
         "0.0662846413639733",
         "0.06418030826572545",
         "92.24116629602175",
         "268.2539436",
         "5.595654962540194",
         "314",
         "0.06843716710847375",
         "False",
         "0.8891376108138429",
         "0.8891376108138429",
         "-8.402153796194758",
         "2.7588295224970536",
         "-6.486265775835858",
         "1.8454717021835985",
         "0.00971675484838983"
        ],
        [
         "bs-trnO-Ala",
         "bs-trnO-Ala",
         "2466",
         "0.27416324539164816",
         "0.24228968504144044",
         "39.0659747961453",
         "1109.5386541",
         "7.012600450563013",
         "2466",
         "0.10407142807498308",
         "False",
         "1.3027612256754346",
         "1.3027612256754346",
         "-6.206698115725706",
         "2.485665843000049",
         "-10.661545419074894",
         "4.5623366234482825",
         "0.0034988493788202565"
        ],
        [
         "bs-yaaC",
         "bs-yaaC",
         "292",
         "0.02592924981467754",
         "0.025598787075278236",
         "92.78477884852978",
         "104.935674",
         "4.6628320608480465",
         "292",
         "0.011627916680102901",
         "False",
         "0.9274150795499442",
         "0.9274150795499442",
         "-8.920378610693435",
         "2.631282031196317",
         "-9.369486717040363",
         "2.792221305035362",
         "0.002543030125886582"
        ],
        [
         "bs-guaB",
         "bs-guaB",
         "337",
         "0.0797088737583395",
         "0.07669144346307046",
         "91.67284408203608",
         "322.5818121",
         "5.779451978722212",
         "337",
         "0.0835791614881034",
         "False",
         "0.8857496402927295",
         "0.8857496402927295",
         "-8.325521768150825",
         "2.8089647023548503",
         "-10.989863806475862",
         "4.1233094210483205",
         "0.012296213145001072"
        ],
        [
         "bs-dacA",
         "bs-dacA",
         "204",
         "0.03888192587101557",
         "0.03814506357176983",
         "94.9592290585619",
         "157.355154",
         "5.064840320607795",
         "204",
         "0.03925824756904566",
         "False",
         "0.9295182401842844",
         "0.9295182401842844",
         "-8.634730404962298",
         "2.608691387287137",
         "-11.051236377269143",
         "3.805236870148537",
         "0.0069174774479117095"
        ],
        [
         "bs-pdxS",
         "bs-pdxS",
         "108",
         "0.02734124042500618",
         "0.02697414491499636",
         "97.33135656041513",
         "110.65",
         "4.7153689782861665",
         "108",
         "0.03075514715215",
         "False",
         "0.9263148691299748",
         "0.9263148691299748",
         "-9.11680840681928",
         "2.649855155673098",
         "-15.255655300672144",
         "5.668056781534347",
         "0.025057174797278384"
        ],
        [
         "bs-pdxT",
         "bs-pdxT",
         "103",
         "0.023243554731900172",
         "0.022977537550015005",
         "97.45490486780332",
         "94.066666",
         "4.554578392859408",
         "103",
         "0.02449803697398458",
         "False",
         "0.9316723224208905",
         "0.9316723224208905",
         "-9.242907736580783",
         "2.6419313898302077",
         "-11.04913668046795",
         "3.554742965799922",
         "0.008064866751003655"
        ],
        [
         "bs-tboS",
         "bs-tboS",
         "44",
         "0.009079035829009142",
         "0.009038069155117984",
         "98.91277489498394",
         "36.742858000000005",
         "3.6307962657429798",
         "44",
         "0.009277005397245316",
         "False",
         "0.872792712234393",
         "0.872792712234393",
         "-9.331068530202808",
         "2.220865529440194",
         null,
         null,
         null
        ],
        [
         "bs-serS",
         "bs-serS",
         "281",
         "0.04123042080553496",
         "0.04040311077402077",
         "93.05658512478378",
         "166.85951300000002",
         "5.12312739742326",
         "281",
         "0.03357562363808855",
         "False",
         "0.9256997677404282",
         "0.9256997677404282",
         "-8.541519761364635",
         "2.619858448711575",
         null,
         null,
         null
        ],
        [
         "bs-trnSL-Ser1",
         "bs-trnSL-Ser1",
         "1143",
         "0.3534102223869533",
         "0.30262749790328536",
         "71.75685693106004",
         "1430.25117",
         "7.266304284769465",
         "1143",
         "0.4364587076102164",
         "False",
         "1.3073755871084012",
         "1.3073755871084012",
         "-6.172995537440478",
         "2.4813567766807507",
         "-12.060775590495986",
         "5.3612652760482655",
         "0.04561431948136481"
        ],
        [
         "bs-dck",
         "bs-dck",
         "29",
         "0.004043069088213492",
         "0.004034917847686698",
         "99.28341981714851",
         "16.362300599999998",
         "2.8543012234932763",
         "29",
         "0.003301417227713827",
         "False",
         "0.6254285768912532",
         "0.6254285768912532",
         "-9.739596494081495",
         "2.0468861380017382",
         "-14.46210498710984",
         "4.360964459466367",
         "0.001897294473621225"
        ],
        [
         "bs-dgk",
         "bs-dgk",
         "37",
         "0.005053232542624166",
         "0.005040507812403414",
         "99.0857425253274",
         "20.450432099999997",
         "3.065744789693272",
         "37",
         "0.004561142167894578",
         "False",
         "0.6988099110084594",
         "0.6988099110084594",
         "-9.461537434909463",
         "2.0179268905739414",
         null,
         null,
         null
        ],
        [
         "bs-sleL",
         "bs-sleL",
         "45",
         "0.006118395132196689",
         "0.006099753750948067",
         "98.88806523350631",
         "24.7611451",
         "3.248867352887915",
         "45",
         "0.004801225249415702",
         "False",
         "0.7721491742514575",
         "0.7721491742514575",
         "-9.345943291723243",
         "2.067470789113842",
         null,
         null,
         null
        ],
        [
         "bs-yaaI",
         "bs-yaaI",
         "18",
         "0.0020917099579935757",
         "0.002089525378526728",
         "99.55522609340251",
         "8.4651502",
         "2.2476166535263946",
         "18",
         "0.0014938882741567508",
         "False",
         "0.44652226995971744",
         "0.44652226995971744",
         "-10.415326191754867",
         "2.0551950863555324",
         null,
         null,
         null
        ],
        [
         "bs-tadA",
         "bs-tadA",
         "12",
         "0.0011748853471707438",
         "0.001174195709491862",
         "99.70348406226834",
         "4.754761",
         "1.7500275122063629",
         "12",
         "0.000743676076020954",
         "False",
         "0.3300101991584059",
         "0.3300101991584059",
         "-10.792435772108867",
         "1.9503776531828356",
         null,
         null,
         null
        ],
        [
         "bs-scr",
         "bs-scr",
         "192",
         "0.047919387200395354",
         "0.0468066623299988",
         "95.25574499629354",
         "193.92976",
         "5.272639288546092",
         "192",
         "0.051511636907341306",
         "False",
         "0.921444068795524",
         "0.921444068795524",
         "-8.499434927179989",
         "2.634320482012396",
         "-14.918842215707432",
         "5.776267851224614",
         "0.015478022206513188"
        ],
        [
         "bs-dnaX",
         "bs-dnaX",
         "106",
         "0.020395294094390906",
         "0.020190095450493276",
         "97.38077588337039",
         "82.53975519999999",
         "4.425322628731961",
         "106",
         "0.019196627793047098",
         "False",
         "0.9393240538688064",
         "0.9393240538688064",
         "-9.299543590433421",
         "2.6177617042593617",
         null,
         null,
         null
        ],
        [
         "bs-ebfC",
         "bs-ebfC",
         "73",
         "0.01590331356560415",
         "0.015778180814545427",
         "98.19619471213244",
         "64.36071",
         "4.179921313405843",
         "73",
         "0.015409176831460116",
         "False",
         "0.9563887018849375",
         "0.9563887018849375",
         "-9.345217028225383",
         "2.5104114529265",
         "-14.367297724040522",
         "4.977454126136547",
         "0.005193748330282332"
        ],
        [
         "bs-recR",
         "bs-recR",
         "32",
         "0.006350971089696071",
         "0.006330888656590308",
         "99.2092908327156",
         "25.702379999999998",
         "3.284752700010376",
         "32",
         "0.006251838825830893",
         "False",
         "0.7644217761928005",
         "0.7644217761928005",
         "-9.3518292514418",
         "2.0590319444187024",
         "-15.559610362016016",
         "5.110035755702418",
         "0.0032499293952557512"
        ],
        [
         "bs-yaaL",
         "bs-yaaL",
         "22",
         "0.001371385717815666",
         "0.0013704462272600164",
         "99.45638744749196",
         "5.549998000000001",
         "1.8794647443036028",
         "22",
         "0.0006868028920367915",
         "False",
         "0.3722922253807479",
         "0.3722922253807479",
         "-10.573204273277073",
         "1.9528555280642312",
         null,
         null,
         null
        ],
        [
         "bs-bofA",
         "bs-bofA",
         "6",
         "0.00028827971336792686",
         "0.000288238168755478",
         "99.85174203113417",
         "1.166668",
         "0.7731905036179078",
         "6",
         "6.16911308666579e-05",
         "False",
         "0.16907717101069286",
         "0.16907717101069286",
         "-21.422010094060596",
         "6.39191634774205",
         "-3.2297197151731623",
         "-2.429032023143687",
         "0.00033629837269119205"
        ],
        [
         "bs-trnA-Ile",
         "bs-trnA-Ile",
         "885",
         "0.09837970768470473",
         "0.09383610086970992",
         "78.13194959229058",
         "398.142677",
         "5.989318939437226",
         "885",
         "0.043925824028302744",
         "False",
         "0.9669778788109608",
         "0.9669778788109608",
         "-7.482875412526891",
         "2.5892018132238173",
         "-11.99206729821578",
         "4.710161167131035",
         "0.0036152734125466644"
        ],
        [
         "bs-trnA-Ala",
         "bs-trnA-Ala",
         "2469",
         "0.2749110066963183",
         "0.24287637750479762",
         "38.99184581171238",
         "1112.5648441",
         "7.015321719487716",
         "2469",
         "0.1047748970150404",
         "False",
         "1.303325883132648",
         "1.303325883132648",
         "-6.203478737153336",
         "2.485299363276495",
         "-10.682647810728245",
         "4.573862511289192",
         "0.0035083256465428567"
        ],
        [
         "bs-csfB",
         "bs-csfB",
         "4",
         "0.0004530106251544353",
         "0.0004529080468193985",
         "99.90116135408945",
         "1.8333339999999998",
         "1.041454110122251",
         "4",
         "0.0003223931944641817",
         "False",
         "0.17781604191141004",
         "0.17781604191141004",
         "-17.158579717241864",
         "4.480966806791745",
         "-13.88946160348983",
         "3.021968387867431",
         "0.0008610546657834905"
        ],
        [
         "bs-xpaC",
         "bs-xpaC",
         "14",
         "0.002499792018779343",
         "0.0024966727360014314",
         "99.65406473931307",
         "10.116658299999997",
         "2.4084447310695514",
         "14",
         "0.002771454687289062",
         "False",
         "0.46299016016980216",
         "0.46299016016980216",
         "-10.407898285488915",
         "2.090008500672932",
         null,
         null,
         null
        ],
        [
         "bs-yaaN",
         "bs-yaaN",
         "83",
         "0.011674342253521127",
         "0.011606722885596046",
         "97.94909809735607",
         "47.24606310000001",
         "3.8763142306736578",
         "83",
         "0.009258306029689137",
         "False",
         "0.9435091812970912",
         "0.9435091812970912",
         "-9.340524790100654",
         "2.388550673231782",
         "-13.387116624868254",
         "4.35389839463651",
         "0.002580833003030822"
        ],
        [
         "bs-yaaO",
         "bs-yaaO",
         "42",
         "0.005344738324684952",
         "0.005330505900670455",
         "98.96219421793921",
         "21.630156",
         "3.119283353125884",
         "42",
         "0.00374081556651838",
         "False",
         "0.7346285332786724",
         "0.7346285332786724",
         "-9.387033440834127",
         "2.033082026825006",
         null,
         null,
         null
        ],
        [
         "bs-tmk",
         "bs-tmk",
         "403",
         "0.05125048529775142",
         "0.049980393943678904",
         "90.04200642451198",
         "207.41071399999998",
         "5.339510719306285",
         "403",
         "0.03034103837231699",
         "False",
         "0.9015567851645956",
         "0.9015567851645956",
         "-8.425005556574309",
         "2.7047120188695044",
         "2.3434238822619577",
         "-2.624003486626887",
         "0.0035700226648083468"
        ],
        [
         "bs-darA",
         "bs-darA",
         "18",
         "0.00264040350877193",
         "0.0026369237673624407",
         "99.55522609340251",
         "10.685713",
         "2.458366984528932",
         "18",
         "0.0023016612540756286",
         "False",
         "0.4899477476680849",
         "0.4899477476680849",
         "-10.374966092785698",
         "2.1325794783406207",
         null,
         null,
         null
        ],
        [
         "bs-yaaR",
         "bs-yaaR",
         "27",
         "0.006453340004941932",
         "0.006432606359369326",
         "99.33283914010377",
         "26.116667",
         "3.3001485572895",
         "27",
         "0.007341669917702535",
         "False",
         "0.756045669076772",
         "0.756045669076772",
         "-9.359603347471335",
         "2.0506365977890195",
         "-12.852450796623515",
         "3.8077975142678935",
         "0.00987641057617696"
        ],
        [
         "bs-holB",
         "bs-holB",
         "196",
         "0.022414905139609587",
         "0.022167383114297244",
         "95.156906350383",
         "90.71312110000001",
         "4.51866545626742",
         "196",
         "0.017555328740202717",
         "False",
         "0.928942032919253",
         "0.928942032919253",
         "-9.203807694256652",
         "2.648167192702383",
         null,
         null,
         null
        ],
        [
         "bs-ricT",
         "bs-ricT",
         "74",
         "0.01295021522115147",
         "0.012867078176470264",
         "98.17148505065481",
         "52.409521",
         "3.9779890259534776",
         "74",
         "0.011870390272980366",
         "False",
         "0.9504050602959161",
         "0.9504050602959161",
         "-9.342566487368423",
         "2.419941551098224",
         null,
         null,
         null
        ],
        [
         "bs-dnaH",
         "bs-dnaH",
         "28",
         "0.005566537682233754",
         "0.005551101767921917",
         "99.30812947862614",
         "22.527777999999998",
         "3.1581817656410447",
         "28",
         "0.005742799751878922",
         "False",
         "0.7161221485750736",
         "0.7161221485750736",
         "-9.42071499901064",
         "2.022905217315028",
         "-7.634399167389881",
         "1.1967158057538176",
         "0.0032627881319112874"
        ],
        [
         "bs-trmNF",
         "bs-trmNF",
         "29",
         "0.004420970101309612",
         "0.004411226320412056",
         "99.28341981714851",
         "17.891666",
         "2.938720872436554",
         "29",
         "0.004482709615242249",
         "False",
         "0.6414649338569488",
         "0.6414649338569488",
         "-9.664916465711563",
         "2.0340053031231182",
         null,
         null,
         null
        ],
        [
         "bs-yazA",
         "bs-yazA",
         "20",
         "0.003995708920187794",
         "0.003987747276527258",
         "99.50580677044725",
         "16.170634",
         "2.8432005990966354",
         "20",
         "0.004263123896226614",
         "False",
         "0.5989015059375397",
         "0.5989015059375397",
         "-9.87631725235219",
         "2.074157988838222",
         null,
         null,
         null
        ],
        [
         "bs-rsmI",
         "bs-rsmI",
         "37",
         "0.00457992490733877",
         "0.004569468964062215",
         "99.0857425253274",
         "18.534956100000002",
         "2.9722054812559806",
         "37",
         "0.0036114662627192958",
         "False",
         "0.6721053583656451",
         "0.6721053583656451",
         "-9.543225942614951",
         "2.0192340796698174",
         null,
         null,
         null
        ],
        [
         "bs-abrB",
         "bs-abrB",
         "17",
         "0.0038299975290338522",
         "0.003822681762127352",
         "99.57993575488015",
         "15.5",
         "2.803360380906535",
         "17",
         "0.0037226674174203043",
         "False",
         "0.5879962407502598",
         "0.5879962407502598",
         "-9.93580567301331",
         "2.0867233810593424",
         null,
         null,
         null
        ],
        [
         "bs-metS",
         "bs-metS",
         "657",
         "0.04176077163330862",
         "0.04091233120775012",
         "83.76575240919199",
         "169.00584279999998",
         "5.135832805871412",
         "657",
         "0.02912703784025931",
         "False",
         "0.9216498096788724",
         "0.9216498096788724",
         "-8.500987516563088",
         "2.63361320976694",
         null,
         null,
         null
        ],
        [
         "bs-dayD",
         "bs-dayD",
         "39",
         "0.0075035003706449225",
         "0.00747548914596079",
         "99.03632320237212",
         "30.366666",
         "3.445745736669239",
         "39",
         "0.0066869639347041645",
         "False",
         "0.8259519249165229",
         "0.8259519249165229",
         "-9.329278939490987",
         "2.1411519598830724",
         null,
         null,
         null
        ],
        [
         "bs-yabE",
         "bs-yabE",
         "190",
         "0.04263720706696318",
         "0.04175327952401336",
         "95.30516431924883",
         "172.552777",
         "5.156481743332184",
         "190",
         "0.04642999512787361",
         "False",
         "0.9274276079123195",
         "0.9274276079123195",
         "-8.56943329873098",
         "2.614267838458883",
         "-0.6355317763502668",
         "-1.2400584018723781",
         "0.010510256862888106"
        ],
        [
         "bs-rnmV",
         "bs-rnmV",
         "19",
         "0.0031957828020756115",
         "0.0031906871417460435",
         "99.53051643192488",
         "12.933333",
         "2.6342840269391554",
         "19",
         "0.002977150671043757",
         "False",
         "0.5368492573119172",
         "0.5368492573119172",
         "-10.209333746273296",
         "2.1389214484722485",
         null,
         null,
         null
        ],
        [
         "bs-rsmA",
         "bs-rsmA",
         "19",
         "0.002878675315048183",
         "0.002874539863776831",
         "99.53051643192488",
         "11.649998999999998",
         "2.5376571361221427",
         "19",
         "0.0024180988638807435",
         "False",
         "0.5137792545460641",
         "0.5137792545460641",
         "-10.307404051775844",
         "2.146054757093786",
         null,
         null,
         null
        ],
        [
         "bs-prtG",
         "bs-prtG",
         "361",
         "0.016916809513219666",
         "0.01677531383195666",
         "91.07981220657277",
         "68.4623281",
         "4.240784563886404",
         "361",
         "0.0048500447529124194",
         "False",
         "0.9364976692869752",
         "0.9364976692869752",
         "-9.283590859489236",
         "2.6275752264098386",
         null,
         null,
         null
        ],
        [
         "bs-veg",
         "bs-veg",
         "30",
         "0.0055452604398319736",
         "0.0055299420865730815",
         "99.25871015567087",
         "22.441668999999997",
         "3.1545151652456656",
         "30",
         "0.00487475454812392",
         "False",
         "0.7266062771265595",
         "0.7266062771265595",
         "-9.400423134405294",
         "2.02807412460586",
         null,
         null,
         null
        ]
       ],
       "shape": {
        "columns": 17,
        "rows": 4316
       }
      },
      "text/html": [
       "<div>\n",
       "<style scoped>\n",
       "    .dataframe tbody tr th:only-of-type {\n",
       "        vertical-align: middle;\n",
       "    }\n",
       "\n",
       "    .dataframe tbody tr th {\n",
       "        vertical-align: top;\n",
       "    }\n",
       "\n",
       "    .dataframe thead th {\n",
       "        text-align: right;\n",
       "    }\n",
       "</style>\n",
       "<table border=\"1\" class=\"dataframe\">\n",
       "  <thead>\n",
       "    <tr style=\"text-align: right;\">\n",
       "      <th></th>\n",
       "      <th>names</th>\n",
       "      <th>n_cells_by_counts</th>\n",
       "      <th>mean_counts</th>\n",
       "      <th>log1p_mean_counts</th>\n",
       "      <th>pct_dropout_by_counts</th>\n",
       "      <th>total_counts</th>\n",
       "      <th>log1p_total_counts</th>\n",
       "      <th>n_cells</th>\n",
       "      <th>var_counts</th>\n",
       "      <th>is_scd_outlier</th>\n",
       "      <th>nb_overdisp</th>\n",
       "      <th>nb_overdisp_cutoff</th>\n",
       "      <th>nb_mean</th>\n",
       "      <th>nb_umi</th>\n",
       "      <th>Intercept_step1_sct</th>\n",
       "      <th>log_umi_step1_sct</th>\n",
       "      <th>dispersion_step1_sct</th>\n",
       "    </tr>\n",
       "  </thead>\n",
       "  <tbody>\n",
       "    <tr>\n",
       "      <th>bs-dnaA</th>\n",
       "      <td>bs-dnaA</td>\n",
       "      <td>217</td>\n",
       "      <td>0.027448</td>\n",
       "      <td>0.027078</td>\n",
       "      <td>94.638003</td>\n",
       "      <td>111.082161</td>\n",
       "      <td>4.719232</td>\n",
       "      <td>217</td>\n",
       "      <td>0.021578</td>\n",
       "      <td>False</td>\n",
       "      <td>0.926588</td>\n",
       "      <td>0.926588</td>\n",
       "      <td>-8.980475</td>\n",
       "      <td>2.638351</td>\n",
       "      <td>NaN</td>\n",
       "      <td>NaN</td>\n",
       "      <td>NaN</td>\n",
       "    </tr>\n",
       "    <tr>\n",
       "      <th>bs-dnaN</th>\n",
       "      <td>bs-dnaN</td>\n",
       "      <td>70</td>\n",
       "      <td>0.010390</td>\n",
       "      <td>0.010336</td>\n",
       "      <td>98.270324</td>\n",
       "      <td>42.047257</td>\n",
       "      <td>3.762299</td>\n",
       "      <td>70</td>\n",
       "      <td>0.008628</td>\n",
       "      <td>False</td>\n",
       "      <td>0.919823</td>\n",
       "      <td>0.919823</td>\n",
       "      <td>-9.336214</td>\n",
       "      <td>2.318359</td>\n",
       "      <td>NaN</td>\n",
       "      <td>NaN</td>\n",
       "      <td>NaN</td>\n",
       "    </tr>\n",
       "    <tr>\n",
       "      <th>bs-rlbA</th>\n",
       "      <td>bs-rlbA</td>\n",
       "      <td>5</td>\n",
       "      <td>0.001235</td>\n",
       "      <td>0.001235</td>\n",
       "      <td>99.876452</td>\n",
       "      <td>5.000000</td>\n",
       "      <td>1.791759</td>\n",
       "      <td>5</td>\n",
       "      <td>0.001234</td>\n",
       "      <td>False</td>\n",
       "      <td>0.315849</td>\n",
       "      <td>0.315849</td>\n",
       "      <td>-10.885641</td>\n",
       "      <td>1.954487</td>\n",
       "      <td>NaN</td>\n",
       "      <td>NaN</td>\n",
       "      <td>NaN</td>\n",
       "    </tr>\n",
       "    <tr>\n",
       "      <th>bs-recF</th>\n",
       "      <td>bs-recF</td>\n",
       "      <td>150</td>\n",
       "      <td>0.030644</td>\n",
       "      <td>0.030184</td>\n",
       "      <td>96.293551</td>\n",
       "      <td>124.016664</td>\n",
       "      <td>4.828447</td>\n",
       "      <td>150</td>\n",
       "      <td>0.028778</td>\n",
       "      <td>False</td>\n",
       "      <td>0.927559</td>\n",
       "      <td>0.927559</td>\n",
       "      <td>-8.910996</td>\n",
       "      <td>2.630150</td>\n",
       "      <td>NaN</td>\n",
       "      <td>NaN</td>\n",
       "      <td>NaN</td>\n",
       "    </tr>\n",
       "    <tr>\n",
       "      <th>bs-remB</th>\n",
       "      <td>bs-remB</td>\n",
       "      <td>10</td>\n",
       "      <td>0.001658</td>\n",
       "      <td>0.001657</td>\n",
       "      <td>99.752903</td>\n",
       "      <td>6.711111</td>\n",
       "      <td>2.042662</td>\n",
       "      <td>10</td>\n",
       "      <td>0.001643</td>\n",
       "      <td>False</td>\n",
       "      <td>0.378405</td>\n",
       "      <td>0.378405</td>\n",
       "      <td>-10.547935</td>\n",
       "      <td>1.955440</td>\n",
       "      <td>NaN</td>\n",
       "      <td>NaN</td>\n",
       "      <td>NaN</td>\n",
       "    </tr>\n",
       "    <tr>\n",
       "      <th>...</th>\n",
       "      <td>...</td>\n",
       "      <td>...</td>\n",
       "      <td>...</td>\n",
       "      <td>...</td>\n",
       "      <td>...</td>\n",
       "      <td>...</td>\n",
       "      <td>...</td>\n",
       "      <td>...</td>\n",
       "      <td>...</td>\n",
       "      <td>...</td>\n",
       "      <td>...</td>\n",
       "      <td>...</td>\n",
       "      <td>...</td>\n",
       "      <td>...</td>\n",
       "      <td>...</td>\n",
       "      <td>...</td>\n",
       "      <td>...</td>\n",
       "    </tr>\n",
       "    <tr>\n",
       "      <th>bs-mnmE</th>\n",
       "      <td>bs-mnmE</td>\n",
       "      <td>82</td>\n",
       "      <td>0.014509</td>\n",
       "      <td>0.014404</td>\n",
       "      <td>97.973808</td>\n",
       "      <td>58.716665</td>\n",
       "      <td>4.089611</td>\n",
       "      <td>82</td>\n",
       "      <td>0.012127</td>\n",
       "      <td>False</td>\n",
       "      <td>0.956769</td>\n",
       "      <td>0.956769</td>\n",
       "      <td>-9.345556</td>\n",
       "      <td>2.486343</td>\n",
       "      <td>NaN</td>\n",
       "      <td>NaN</td>\n",
       "      <td>NaN</td>\n",
       "    </tr>\n",
       "    <tr>\n",
       "      <th>bs-jag</th>\n",
       "      <td>bs-jag</td>\n",
       "      <td>283</td>\n",
       "      <td>0.050772</td>\n",
       "      <td>0.049526</td>\n",
       "      <td>93.007166</td>\n",
       "      <td>205.476166</td>\n",
       "      <td>5.330185</td>\n",
       "      <td>283</td>\n",
       "      <td>0.041709</td>\n",
       "      <td>False</td>\n",
       "      <td>0.910139</td>\n",
       "      <td>0.910139</td>\n",
       "      <td>-8.445815</td>\n",
       "      <td>2.673539</td>\n",
       "      <td>-2.829931</td>\n",
       "      <td>-0.073878</td>\n",
       "      <td>0.004359</td>\n",
       "    </tr>\n",
       "    <tr>\n",
       "      <th>bs-oxaAA</th>\n",
       "      <td>bs-oxaAA</td>\n",
       "      <td>91</td>\n",
       "      <td>0.018399</td>\n",
       "      <td>0.018232</td>\n",
       "      <td>97.751421</td>\n",
       "      <td>74.462301</td>\n",
       "      <td>4.323633</td>\n",
       "      <td>91</td>\n",
       "      <td>0.018610</td>\n",
       "      <td>False</td>\n",
       "      <td>0.948847</td>\n",
       "      <td>0.948847</td>\n",
       "      <td>-9.332614</td>\n",
       "      <td>2.575811</td>\n",
       "      <td>NaN</td>\n",
       "      <td>NaN</td>\n",
       "      <td>NaN</td>\n",
       "    </tr>\n",
       "    <tr>\n",
       "      <th>bs-rnpA</th>\n",
       "      <td>bs-rnpA</td>\n",
       "      <td>17</td>\n",
       "      <td>0.003571</td>\n",
       "      <td>0.003564</td>\n",
       "      <td>99.579936</td>\n",
       "      <td>14.450000</td>\n",
       "      <td>2.737609</td>\n",
       "      <td>17</td>\n",
       "      <td>0.003815</td>\n",
       "      <td>False</td>\n",
       "      <td>0.560492</td>\n",
       "      <td>0.560492</td>\n",
       "      <td>-10.087462</td>\n",
       "      <td>2.118120</td>\n",
       "      <td>NaN</td>\n",
       "      <td>NaN</td>\n",
       "      <td>NaN</td>\n",
       "    </tr>\n",
       "    <tr>\n",
       "      <th>bs-rpmH</th>\n",
       "      <td>bs-rpmH</td>\n",
       "      <td>27</td>\n",
       "      <td>0.006630</td>\n",
       "      <td>0.006609</td>\n",
       "      <td>99.332839</td>\n",
       "      <td>26.833333</td>\n",
       "      <td>3.326234</td>\n",
       "      <td>27</td>\n",
       "      <td>0.006964</td>\n",
       "      <td>False</td>\n",
       "      <td>0.770700</td>\n",
       "      <td>0.770700</td>\n",
       "      <td>-9.346959</td>\n",
       "      <td>2.065840</td>\n",
       "      <td>NaN</td>\n",
       "      <td>NaN</td>\n",
       "      <td>NaN</td>\n",
       "    </tr>\n",
       "  </tbody>\n",
       "</table>\n",
       "<p>4316 rows × 17 columns</p>\n",
       "</div>"
      ],
      "text/plain": [
       "             names  n_cells_by_counts  mean_counts  log1p_mean_counts  \\\n",
       "bs-dnaA    bs-dnaA                217     0.027448           0.027078   \n",
       "bs-dnaN    bs-dnaN                 70     0.010390           0.010336   \n",
       "bs-rlbA    bs-rlbA                  5     0.001235           0.001235   \n",
       "bs-recF    bs-recF                150     0.030644           0.030184   \n",
       "bs-remB    bs-remB                 10     0.001658           0.001657   \n",
       "...            ...                ...          ...                ...   \n",
       "bs-mnmE    bs-mnmE                 82     0.014509           0.014404   \n",
       "bs-jag      bs-jag                283     0.050772           0.049526   \n",
       "bs-oxaAA  bs-oxaAA                 91     0.018399           0.018232   \n",
       "bs-rnpA    bs-rnpA                 17     0.003571           0.003564   \n",
       "bs-rpmH    bs-rpmH                 27     0.006630           0.006609   \n",
       "\n",
       "          pct_dropout_by_counts  total_counts  log1p_total_counts  n_cells  \\\n",
       "bs-dnaA               94.638003    111.082161            4.719232      217   \n",
       "bs-dnaN               98.270324     42.047257            3.762299       70   \n",
       "bs-rlbA               99.876452      5.000000            1.791759        5   \n",
       "bs-recF               96.293551    124.016664            4.828447      150   \n",
       "bs-remB               99.752903      6.711111            2.042662       10   \n",
       "...                         ...           ...                 ...      ...   \n",
       "bs-mnmE               97.973808     58.716665            4.089611       82   \n",
       "bs-jag                93.007166    205.476166            5.330185      283   \n",
       "bs-oxaAA              97.751421     74.462301            4.323633       91   \n",
       "bs-rnpA               99.579936     14.450000            2.737609       17   \n",
       "bs-rpmH               99.332839     26.833333            3.326234       27   \n",
       "\n",
       "          var_counts is_scd_outlier  nb_overdisp  nb_overdisp_cutoff  \\\n",
       "bs-dnaA     0.021578          False     0.926588            0.926588   \n",
       "bs-dnaN     0.008628          False     0.919823            0.919823   \n",
       "bs-rlbA     0.001234          False     0.315849            0.315849   \n",
       "bs-recF     0.028778          False     0.927559            0.927559   \n",
       "bs-remB     0.001643          False     0.378405            0.378405   \n",
       "...              ...            ...          ...                 ...   \n",
       "bs-mnmE     0.012127          False     0.956769            0.956769   \n",
       "bs-jag      0.041709          False     0.910139            0.910139   \n",
       "bs-oxaAA    0.018610          False     0.948847            0.948847   \n",
       "bs-rnpA     0.003815          False     0.560492            0.560492   \n",
       "bs-rpmH     0.006964          False     0.770700            0.770700   \n",
       "\n",
       "            nb_mean    nb_umi  Intercept_step1_sct  log_umi_step1_sct  \\\n",
       "bs-dnaA   -8.980475  2.638351                  NaN                NaN   \n",
       "bs-dnaN   -9.336214  2.318359                  NaN                NaN   \n",
       "bs-rlbA  -10.885641  1.954487                  NaN                NaN   \n",
       "bs-recF   -8.910996  2.630150                  NaN                NaN   \n",
       "bs-remB  -10.547935  1.955440                  NaN                NaN   \n",
       "...             ...       ...                  ...                ...   \n",
       "bs-mnmE   -9.345556  2.486343                  NaN                NaN   \n",
       "bs-jag    -8.445815  2.673539            -2.829931          -0.073878   \n",
       "bs-oxaAA  -9.332614  2.575811                  NaN                NaN   \n",
       "bs-rnpA  -10.087462  2.118120                  NaN                NaN   \n",
       "bs-rpmH   -9.346959  2.065840                  NaN                NaN   \n",
       "\n",
       "          dispersion_step1_sct  \n",
       "bs-dnaA                    NaN  \n",
       "bs-dnaN                    NaN  \n",
       "bs-rlbA                    NaN  \n",
       "bs-recF                    NaN  \n",
       "bs-remB                    NaN  \n",
       "...                        ...  \n",
       "bs-mnmE                    NaN  \n",
       "bs-jag                0.004359  \n",
       "bs-oxaAA                   NaN  \n",
       "bs-rnpA                    NaN  \n",
       "bs-rpmH                    NaN  \n",
       "\n",
       "[4316 rows x 17 columns]"
      ]
     },
     "execution_count": 169,
     "metadata": {},
     "output_type": "execute_result"
    }
   ],
   "source": [
    "data_gene.var"
   ]
  },
  {
   "cell_type": "code",
   "execution_count": null,
   "id": "55809f05b7362490",
   "metadata": {
    "ExecuteTime": {
     "end_time": "2024-08-19T14:22:21.504085Z",
     "start_time": "2024-08-19T14:22:21.056494Z"
    },
    "scrolled": true
   },
   "outputs": [
    {
     "data": {
      "image/png": "[encoded data removed]",
      "text/plain": [
       "<Figure size 640x480 with 1 Axes>"
      ]
     },
     "metadata": {},
     "output_type": "display_data"
    },
    {
     "data": {
      "image/png": "[encoded data removed]",
      "text/plain": [
       "<Figure size 640x480 with 1 Axes>"
      ]
     },
     "metadata": {},
     "output_type": "display_data"
    }
   ],
   "source": [
    "# Quick diagnostic plot - maybe we can spot some outlier genes here that prompt further investigation\n",
    "sns.histplot(data=data_gene.var, x=\"nb_overdisp_cutoff\", bins=100)\n",
    "plt.title(\"Overdispersion parameters estimated by scTransform\")\n",
    "plt.xlabel(\"Overdispersion parameter\")\n",
    "plt.show()\n",
    "\n",
    "g = sns.scatterplot(data=data_gene.var, y=\"nb_overdisp_cutoff\", x=\"mean_counts\")\n",
    "g.set(xscale=\"log\", yscale=\"log\")\n",
    "plt.title(\"Overdispersion parameters estimated by scTransform\")\n",
    "plt.xlabel(\"Gene mean\")\n",
    "plt.ylabel(\"Theta\")\n",
    "plt.show()"
   ]
  },
  {
   "cell_type": "code",
   "execution_count": null,
   "id": "53ed0ef6",
   "metadata": {
    "ExecuteTime": {
     "end_time": "2024-08-19T14:22:21.507880Z",
     "start_time": "2024-08-19T14:22:21.505252Z"
    }
   },
   "outputs": [],
   "source": [
    "data_gene.X = data_gene.layers[\"counts\"].copy()"
   ]
  },
  {
   "cell_type": "markdown",
   "id": "404429e5641af659",
   "metadata": {},
   "source": [
    "## Normalization, VST, scaling and PCA\n",
    "\n",
    "Normalize, scale and perform PCA on the data"
   ]
  },
  {
   "cell_type": "code",
   "execution_count": null,
   "id": "37c865c2",
   "metadata": {
    "ExecuteTime": {
     "end_time": "2024-08-19T14:22:26.600901Z",
     "start_time": "2024-08-19T14:22:21.508486Z"
    },
    "scrolled": true
   },
   "outputs": [],
   "source": [
    "sc.pp.normalize_total(data_gene, target_sum=None, layer=None)\n",
    "if is_overdispersed:\n",
    "    data_gene.X = sps.csr_matrix(np.log(data_gene.X.toarray() + np.array(data_gene.var[\"nb_overdisp_cutoff\"] / 4)))\n",
    "else:\n",
    "    # data_gene.X = sps.csr_matrix(np.sqrt(data_gene.X.toarray()))\n",
    "    data_gene.X = sps.csr_matrix(np.log(data_gene.X.toarray() + np.array(data_gene.var[\"nb_overdisp_cutoff\"] / 4)))\n",
    "\n",
    "data_gene.layers[\"vst_counts\"] = data_gene.X.copy()\n",
    "sc.pp.scale(data_gene, max_value=10, zero_center=True)\n",
    "sc.tl.pca(data_gene, svd_solver='arpack')"
   ]
  },
  {
   "cell_type": "markdown",
   "id": "9c90967d",
   "metadata": {},
   "source": [
    "Histograms of cell sequencing depths before normalization, after VST and after scaling. The data should be more centered than before"
   ]
  },
  {
   "cell_type": "code",
   "execution_count": null,
   "id": "513b1954",
   "metadata": {
    "ExecuteTime": {
     "end_time": "2024-08-19T14:22:26.932600Z",
     "start_time": "2024-08-19T14:22:26.612123Z"
    }
   },
   "outputs": [
    {
     "data": {
      "image/png": "[encoded data removed]",
      "text/plain": [
       "<Figure size 1000x500 with 3 Axes>"
      ]
     },
     "metadata": {},
     "output_type": "display_data"
    }
   ],
   "source": [
    "\n",
    "fig, axes = plt.subplots(1, 3, figsize=(10, 5))\n",
    "p1 = sns.histplot(data_gene.obs, x=\"total_counts\", kde=False, ax=axes[0], multiple=\"stack\")\n",
    "axes[0].set_title(\"Total counts\")\n",
    "data_gene.obs[\"total_counts_norm\"] = data_gene.layers[\"vst_counts\"].sum(1)\n",
    "p2 = sns.histplot(data_gene.obs, x=\"total_counts_norm\", kde=False, ax=axes[1], multiple=\"stack\")\n",
    "axes[1].set_title(\"Shifted logarithm\")\n",
    "data_gene.obs[\"total_counts_scale\"] = data_gene.X.sum(1)\n",
    "p2 = sns.histplot(data_gene.obs, x=\"total_counts_scale\", kde=False, ax=axes[2], multiple=\"stack\")\n",
    "axes[2].set_title(\"VST and scaled\")\n",
    "plt.tight_layout()\n",
    "plt.show()"
   ]
  },
  {
   "cell_type": "markdown",
   "id": "f39d18a1385ad399",
   "metadata": {},
   "source": [
    "## Count-splitting into train and test data\n",
    "\n",
    "This step creates a train and test dataset, which we use to determine the latent dimensionality and clustering resolution further down the line"
   ]
  },
  {
   "cell_type": "code",
   "execution_count": null,
   "id": "df7debd2",
   "metadata": {},
   "outputs": [],
   "source": [
    "# Recharger le module nb après modification\n",
    "importlib.reload(cs)\n",
    "importlib.reload(ut)"
   ]
  },
  {
   "cell_type": "code",
   "execution_count": null,
   "id": "ac069ce3",
   "metadata": {},
   "outputs": [],
   "source": [
    "import pandas as pd\n",
    "import scanpy as sc\n",
    "import anndata as ad\n",
    "import numpy as np\n",
    "import seaborn as sns\n",
    "import matplotlib.pyplot as plt\n",
    "import scipy.sparse as sps\n",
    "    \n",
    "import tools.util_probe as up\n",
    "import tools.util as ut\n",
    "import tools.NB_est as nb\n",
    "import tools.countsplit as cs\n",
    "import tools.scDEED as scd\n",
    "import tools.clustering_opt as co\n",
    "\n",
    "import warnings\n",
    "warnings.filterwarnings(\"ignore\")"
   ]
  },
  {
   "cell_type": "code",
   "execution_count": null,
   "id": "887fe97f73be2da",
   "metadata": {
    "ExecuteTime": {
     "end_time": "2024-08-19T14:22:27.146998Z",
     "start_time": "2024-08-19T14:22:26.933286Z"
    },
    "scrolled": true
   },
   "outputs": [
    {
     "ename": "TypeError",
     "evalue": "int() argument must be a string, a bytes-like object or a real number, not 'csc_matrix'",
     "output_type": "error",
     "traceback": [
      "\u001b[31m---------------------------------------------------------------------------\u001b[39m",
      "\u001b[31mTypeError\u001b[39m                                 Traceback (most recent call last)",
      "\u001b[36mCell\u001b[39m\u001b[36m \u001b[39m\u001b[32mIn[182]\u001b[39m\u001b[32m, line 5\u001b[39m\n\u001b[32m      3\u001b[39m \u001b[38;5;28;01melse\u001b[39;00m:\n\u001b[32m      4\u001b[39m     data_dist = \u001b[33m\"\u001b[39m\u001b[33mPoi\u001b[39m\u001b[33m\"\u001b[39m\n\u001b[32m----> \u001b[39m\u001b[32m5\u001b[39m data_train, data_test = \u001b[43mcs\u001b[49m\u001b[43m.\u001b[49m\u001b[43mcountsplit_adata\u001b[49m\u001b[43m(\u001b[49m\u001b[43mdata_gene\u001b[49m\u001b[43m,\u001b[49m\u001b[43m \u001b[49m\u001b[43mdata_dist\u001b[49m\u001b[43m=\u001b[49m\u001b[43mdata_dist\u001b[49m\u001b[43m,\u001b[49m\u001b[43m \u001b[49m\u001b[43mbeta_key\u001b[49m\u001b[43m=\u001b[49m\u001b[33;43m\"\u001b[39;49m\u001b[33;43mnb_overdisp_cutoff\u001b[39;49m\u001b[33;43m\"\u001b[39;49m\u001b[43m,\u001b[49m\u001b[43m \u001b[49m\u001b[43mlayer\u001b[49m\u001b[43m=\u001b[49m\u001b[33;43m\"\u001b[39;49m\u001b[33;43mcounts\u001b[39;49m\u001b[33;43m\"\u001b[39;49m\u001b[43m,\u001b[49m\u001b[43m \u001b[49m\u001b[43mmin_genes\u001b[49m\u001b[43m=\u001b[49m\u001b[32;43m1\u001b[39;49m\u001b[43m,\u001b[49m\u001b[43m \u001b[49m\u001b[43mmax_counts\u001b[49m\u001b[43m=\u001b[49m\u001b[32;43m1e9\u001b[39;49m\u001b[43m,\u001b[49m\u001b[43m \u001b[49m\u001b[43mseed\u001b[49m\u001b[43m=\u001b[49m\u001b[32;43m1234\u001b[39;49m\u001b[43m)\u001b[49m\n\u001b[32m      6\u001b[39m \u001b[38;5;28mprint\u001b[39m(data_train)\n",
      "\u001b[36mFile \u001b[39m\u001b[32m~/Desktop/20_03/tools/countsplit.py:28\u001b[39m, in \u001b[36mcountsplit_adata\u001b[39m\u001b[34m(adata, data_dist, beta_key, mean_key, epsilon, min_cells, min_genes, max_counts, min_counts, layer, seed)\u001b[39m\n\u001b[32m     25\u001b[39m     X_test = X_res[:, :, \u001b[32m1\u001b[39m]\n\u001b[32m     26\u001b[39m \u001b[38;5;28;01melif\u001b[39;00m data_dist == \u001b[33m\"\u001b[39m\u001b[33mPoi\u001b[39m\u001b[33m\"\u001b[39m:\n\u001b[32m     27\u001b[39m     \u001b[38;5;66;03m# Create train and test data with Poisson count splitting\u001b[39;00m\n\u001b[32m---> \u001b[39m\u001b[32m28\u001b[39m     X_train = \u001b[43mnp\u001b[49m\u001b[43m.\u001b[49m\u001b[43mrandom\u001b[49m\u001b[43m.\u001b[49m\u001b[43mdefault_rng\u001b[49m\u001b[43m(\u001b[49m\u001b[43mseed\u001b[49m\u001b[43m)\u001b[49m\u001b[43m.\u001b[49m\u001b[43mbinomial\u001b[49m\u001b[43m(\u001b[49m\u001b[43mcount_data\u001b[49m\u001b[43m,\u001b[49m\u001b[43m \u001b[49m\u001b[43mepsilon\u001b[49m\u001b[43m)\u001b[49m\n\u001b[32m     29\u001b[39m     X_test = count_data - X_train\n\u001b[32m     30\u001b[39m \u001b[38;5;28;01melse\u001b[39;00m:\n",
      "\u001b[36mFile \u001b[39m\u001b[32mnumpy/random/_generator.pyx:3086\u001b[39m, in \u001b[36mnumpy.random._generator.Generator.binomial\u001b[39m\u001b[34m()\u001b[39m\n",
      "\u001b[31mTypeError\u001b[39m: int() argument must be a string, a bytes-like object or a real number, not 'csc_matrix'"
     ]
    }
   ],
   "source": [
    "if is_overdispersed:\n",
    "    data_dist = \"NB\"\n",
    "else:\n",
    "    data_dist = \"Poi\"\n",
    "data_train, data_test = cs.countsplit_adata(data_gene, data_dist=data_dist, beta_key=\"nb_overdisp_cutoff\", layer=\"counts\", min_genes=1, max_counts=1e9, seed=1234)\n",
    "print(data_train)"
   ]
  },
  {
   "cell_type": "markdown",
   "id": "ccb1e10c",
   "metadata": {},
   "source": [
    "Process the data in the same way as the fulld dataset (Normalize, scale, PCA)"
   ]
  },
  {
   "cell_type": "code",
   "execution_count": null,
   "id": "b4b716bc46c7e764",
   "metadata": {
    "ExecuteTime": {
     "end_time": "2024-08-19T14:22:37.234164Z",
     "start_time": "2024-08-19T14:22:27.147573Z"
    }
   },
   "outputs": [],
   "source": [
    "sc.pp.normalize_total(data_train, target_sum=None, layer=None)\n",
    "if is_overdispersed:\n",
    "    data_train.X = sps.csr_matrix(np.log(data_train.X.toarray() + np.array(data_train.var[\"nb_overdisp_cutoff\"] / 4)))\n",
    "else:\n",
    "    data_train.X = sps.csr_matrix(np.sqrt(data_train.X.toarray()))\n",
    "data_train.layers[\"vst_counts\"] = data_train.X.copy()\n",
    "sc.pp.scale(data_train, max_value=10, zero_center=True)\n",
    "sc.tl.pca(data_train, svd_solver='arpack')\n",
    "\n",
    "\n",
    "sc.pp.normalize_total(data_test, target_sum=None, layer=None)\n",
    "if is_overdispersed:\n",
    "    data_test.X = sps.csr_matrix(np.log(data_test.X.toarray() + np.array(data_train.var[\"nb_overdisp_cutoff\"] / 4)))\n",
    "else:\n",
    "    data_test.X = sps.csr_matrix(np.sqrt(data_test.X.toarray()))\n",
    "data_test.layers[\"vst_counts\"] = data_test.X.copy()\n",
    "sc.pp.scale(data_test, max_value=10, zero_center=True)\n",
    "sc.tl.pca(data_test, svd_solver='arpack')"
   ]
  },
  {
   "cell_type": "code",
   "execution_count": null,
   "id": "ce7bd3dad31395ce",
   "metadata": {
    "ExecuteTime": {
     "end_time": "2024-08-19T14:22:37.401012Z",
     "start_time": "2024-08-19T14:22:37.236238Z"
    }
   },
   "outputs": [],
   "source": [
    "sc.pl.pca(data_train, title=\"Training data\")\n",
    "plt.show()\n",
    "\n",
    "sc.pl.pca(data_test, title=\"Test data\")\n",
    "plt.show()"
   ]
  },
  {
   "cell_type": "markdown",
   "id": "60e98ed50369f9ef",
   "metadata": {},
   "source": [
    "### Principal component selection\n",
    "\n",
    "Select the optimal latent dimensionality k - the curve below should have a nice minimum"
   ]
  },
  {
   "cell_type": "code",
   "execution_count": null,
   "id": "2c0febbe67d0eb62",
   "metadata": {
    "ExecuteTime": {
     "end_time": "2024-08-19T14:23:25.820144Z",
     "start_time": "2024-08-19T14:22:37.409951Z"
    }
   },
   "outputs": [],
   "source": [
    "k_errors, k_opt = cs.select_n_pcs_countsplit(data_train, data_test)\n",
    "print(f\"Optimal number of PCs:{k_opt}\")\n",
    "data_gene.uns[\"BacSC_params\"] = {\"k_opt\": k_opt}"
   ]
  },
  {
   "cell_type": "code",
   "execution_count": null,
   "id": "9039893ca38b59d7",
   "metadata": {
    "ExecuteTime": {
     "end_time": "2024-08-19T14:23:25.965795Z",
     "start_time": "2024-08-19T14:23:25.821404Z"
    },
    "scrolled": true
   },
   "outputs": [],
   "source": [
    "plt.scatter(np.arange(20) + 1, k_errors)\n",
    "plt.title(\"SVD loss\")\n",
    "plt.xlabel(\"Dimensionality\")\n",
    "plt.ylabel(\"Loss\")\n",
    "plt.show()"
   ]
  },
  {
   "cell_type": "markdown",
   "id": "1cfade2b",
   "metadata": {},
   "source": [
    "Plot the PCA of the full dataset"
   ]
  },
  {
   "cell_type": "code",
   "execution_count": null,
   "id": "b9f2e5f5a9a3c2e4",
   "metadata": {
    "ExecuteTime": {
     "end_time": "2024-04-15T08:43:40.642570Z",
     "start_time": "2024-04-15T08:43:40.310983Z"
    }
   },
   "outputs": [],
   "source": [
    "sc.pl.pca(data_gene, color=\"total_counts\", cmap=\"viridis\", title=\"PCA of full dataset\")\n",
    "plt.show()"
   ]
  },
  {
   "cell_type": "markdown",
   "id": "a57591d4ce229c70",
   "metadata": {},
   "source": [
    "## Selection of optimal number of neighbors and optimal UMAP scale via scDEED\n",
    "\n",
    "We now select parameters for the UMAP embedding. This is done with scDEED (Xia et al., 2023). Depending on the grid of values to test, this might take a while (in this example about 30 minutes).\n",
    "The results are checkpointed after each parameter set, so you can always extend your parameter range\n",
    "\n",
    "A representative set of parameters is given below, so that this step can be skipped"
   ]
  },
  {
   "cell_type": "code",
   "execution_count": null,
   "id": "cd145a670860837e",
   "metadata": {
    "ExecuteTime": {
     "end_time": "2024-04-15T08:45:48.338352Z",
     "start_time": "2024-04-15T08:45:48.225527Z"
    }
   },
   "outputs": [],
   "source": [
    "seed = 140\n",
    "print(seed)"
   ]
  },
  {
   "cell_type": "code",
   "execution_count": null,
   "id": "43fcd7cfb3de19b6",
   "metadata": {
    "ExecuteTime": {
     "end_time": "2024-04-15T09:00:36.065417Z",
     "start_time": "2024-04-15T08:45:49.459673Z"
    },
    "scrolled": true
   },
   "outputs": [],
   "source": [
    "n_neighborss = [10, 15, 20, 25, 30, 35, 40, 45, 50, 60, 70, 80, 90, 100, 150, 200, 250]\n",
    "min_dists = [0.05, 0.1, 0.3, 0.5, 0.7]\n",
    "\n",
    "scdeed_result, rel_scores, null_rel_scores, reliabilities, n_neighbors_opt, min_dist_opt = scd.scdeed_parameter_selection(data_gene, n_neighborss, min_dists, n_pcs=k_opt, rng_seed=seed, embedding_method=\"UMAP\", similarity_percent=0.5, save_path=\"S3_filtered_scdeed_tutorial\")"
   ]
  },
  {
   "cell_type": "markdown",
   "id": "b97c08e1",
   "metadata": {},
   "source": [
    "Plot the scDEED results. The plot might not exhibit a clear minimum, but we still take the parameter combination that has the least number of dubiously embedded cells"
   ]
  },
  {
   "cell_type": "code",
   "execution_count": null,
   "id": "7cb6ace53c5c8ef3",
   "metadata": {
    "ExecuteTime": {
     "end_time": "2024-04-15T09:00:36.388160Z",
     "start_time": "2024-04-15T09:00:36.076637Z"
    },
    "scrolled": false
   },
   "outputs": [],
   "source": [
    "print(f\"Optimal number of neighbors: {n_neighbors_opt}\")\n",
    "print(f\"Optimal min_dist: {min_dist_opt}\")\n",
    "\n",
    "sns.lineplot(data=scdeed_result, x=\"n_neighbors\", y=\"num_dubious\", hue=\"min_dist\", palette=\"tab10\")\n",
    "plt.title(\"scDEED results\")\n",
    "plt.ylabel(\"Number of dubiously embedded cells\")\n",
    "plt.show()"
   ]
  },
  {
   "cell_type": "code",
   "execution_count": null,
   "id": "57298e2effc567a0",
   "metadata": {
    "ExecuteTime": {
     "end_time": "2024-04-15T09:01:03.905872Z",
     "start_time": "2024-04-15T09:01:02.805381Z"
    }
   },
   "outputs": [],
   "source": [
    "# Use these parameters if you don't want to run scDEED\n",
    "# n_neighbors_opt = 20\n",
    "# min_dist_opt = 0.5"
   ]
  },
  {
   "cell_type": "code",
   "execution_count": null,
   "id": "35f273b8eb66279c",
   "metadata": {
    "ExecuteTime": {
     "end_time": "2024-04-15T09:01:05.532647Z",
     "start_time": "2024-04-15T09:01:05.413647Z"
    }
   },
   "outputs": [],
   "source": [
    "# Save parameters to data object\n",
    "data_gene.uns[\"BacSC_params\"][\"n_neighbors_opt\"] = n_neighbors_opt\n",
    "data_gene.uns[\"BacSC_params\"][\"min_dist_opt\"] = min_dist_opt"
   ]
  },
  {
   "cell_type": "markdown",
   "id": "19cd74bb",
   "metadata": {},
   "source": [
    "Compute and plot the resulting UMAP. The coloring by embedding reliability is only possible, if scDEED was performed\n",
    "\n",
    "NOTE: UMAPs are rotation/mirroring invariant, so they might appear slightly different every time"
   ]
  },
  {
   "cell_type": "code",
   "execution_count": null,
   "id": "63892185db614650",
   "metadata": {
    "ExecuteTime": {
     "end_time": "2024-04-15T09:01:12.422331Z",
     "start_time": "2024-04-15T09:01:08.112118Z"
    }
   },
   "outputs": [],
   "source": [
    "sc.pp.neighbors(data_gene, n_neighbors=n_neighbors_opt, n_pcs=k_opt)\n",
    "sc.tl.umap(data_gene, neighbors_key=\"neighbors\", min_dist=min_dist_opt, spread=1, random_state=3456)\n"
   ]
  },
  {
   "cell_type": "code",
   "execution_count": null,
   "id": "4e5245d9e1809799",
   "metadata": {
    "ExecuteTime": {
     "end_time": "2024-04-15T09:01:12.748494Z",
     "start_time": "2024-04-15T09:01:12.433121Z"
    },
    "scrolled": false
   },
   "outputs": [],
   "source": [
    "# sc.pl.umap(data_gene, color=\"embedding_reliability\", alpha=1)\n",
    "# plt.show()\n",
    "\n",
    "sc.pl.umap(data_gene, color=\"total_counts\", alpha=1, cmap=\"viridis\")\n",
    "plt.show()"
   ]
  },
  {
   "cell_type": "markdown",
   "id": "307d8e3d",
   "metadata": {},
   "source": [
    "**Checkpoint** \n",
    "\n",
    "Save the data to disk and read it again"
   ]
  },
  {
   "cell_type": "code",
   "execution_count": null,
   "id": "5782afe8",
   "metadata": {
    "ExecuteTime": {
     "end_time": "2024-04-15T09:01:18.584265Z",
     "start_time": "2024-04-15T09:01:16.843149Z"
    }
   },
   "outputs": [],
   "source": [
    "data_gene.write(data_path + \"/filtered_data_maxpool_processed_tutorial.h5ad\")"
   ]
  },
  {
   "cell_type": "code",
   "execution_count": null,
   "id": "6a1eabbd",
   "metadata": {},
   "outputs": [],
   "source": [
    "data_gene = sc.read_h5ad(data_path + \"/filtered_data_maxpool_processed_tutorial.h5ad\")\n",
    "data_gene"
   ]
  },
  {
   "cell_type": "markdown",
   "id": "692ef731",
   "metadata": {},
   "source": [
    "## Clustering\n",
    "\n",
    "We now apply Leiden clustering to the data. For this, we need to find a resolution parameter that points out the clusters in the data well"
   ]
  },
  {
   "cell_type": "markdown",
   "id": "33e9e5dc",
   "metadata": {},
   "source": [
    "### Train/test-split for clustering\n",
    "\n",
    "We apply the UMAP embedding with the previously calculated parameters to the train and test data."
   ]
  },
  {
   "cell_type": "code",
   "execution_count": null,
   "id": "d47c858e",
   "metadata": {
    "ExecuteTime": {
     "end_time": "2024-04-15T09:01:29.492002Z",
     "start_time": "2024-04-15T09:01:20.623168Z"
    }
   },
   "outputs": [],
   "source": [
    "k_opt = data_gene.uns[\"BacSC_params\"][\"k_opt\"]\n",
    "n_neighbors_opt = data_gene.uns[\"BacSC_params\"][\"n_neighbors_opt\"]\n",
    "min_dist_opt = data_gene.uns[\"BacSC_params\"][\"min_dist_opt\"]\n",
    "\n",
    "sc.pp.neighbors(data_train, n_neighbors=n_neighbors_opt, n_pcs=k_opt)\n",
    "sc.tl.umap(data_train, neighbors_key=\"neighbors\", min_dist=min_dist_opt, spread=1, random_state=1234)\n",
    "\n",
    "sc.pp.neighbors(data_test, n_neighbors=n_neighbors_opt, n_pcs=k_opt)\n",
    "sc.tl.umap(data_test, neighbors_key=\"neighbors\", min_dist=min_dist_opt, spread=1, random_state=1234)\n",
    "\n",
    "\n",
    "theta_opt, mirror_opt, umap_2_opt, ssd = ut.find_opt_umap_rotation(data_train.obsm[\"X_umap\"].copy(), data_test.obsm[\"X_umap\"].copy())\n",
    "data_test.obsm[\"X_umap_rot\"] = umap_2_opt"
   ]
  },
  {
   "cell_type": "code",
   "execution_count": null,
   "id": "ba4e0af7",
   "metadata": {
    "ExecuteTime": {
     "end_time": "2024-04-15T09:01:29.697038Z",
     "start_time": "2024-04-15T09:01:29.274566Z"
    }
   },
   "outputs": [],
   "source": [
    "sc.pl.umap(data_train, color=\"total_counts\", cmap=\"viridis\", title=\"Training data\")\n",
    "plt.show()\n",
    "\n",
    "sc.pl.embedding(data_test, basis=\"X_umap_rot\", color=\"total_counts\", cmap=\"viridis\", title=\"Test data\")\n",
    "plt.show()"
   ]
  },
  {
   "cell_type": "markdown",
   "id": "6a722d7e5c838c97",
   "metadata": {},
   "source": [
    "### Apply clustering with array of resolutions\n",
    "\n",
    "This step might also take a few minutes, based on the size of the data. You can also adjust the range of considered resolutions"
   ]
  },
  {
   "cell_type": "code",
   "execution_count": null,
   "id": "1fb9c96c",
   "metadata": {
    "ExecuteTime": {
     "end_time": "2024-04-15T09:02:47.478114Z",
     "start_time": "2024-04-15T09:02:29.382984Z"
    }
   },
   "outputs": [],
   "source": [
    "res_min = 0.01\n",
    "res_max = 0.5\n",
    "res_step = 0.02\n",
    "resolutions = np.round(np.arange(res_min, res_max, res_step), 2)\n",
    "print(f\"Resolutions to test: {resolutions}\")\n",
    "\n",
    "#234\n",
    "co.cluster_train_test(data_train, data_test, resolutions, alg=\"leiden\", random_state=234)"
   ]
  },
  {
   "cell_type": "code",
   "execution_count": null,
   "id": "e2ad308e1b5d960e",
   "metadata": {
    "ExecuteTime": {
     "end_time": "2024-04-15T09:02:56.108868Z",
     "start_time": "2024-04-15T09:02:47.488364Z"
    }
   },
   "outputs": [],
   "source": [
    "for resolution in resolutions:\n",
    "    fig, ax = plt.subplots(1, 2, figsize=(8, 3))\n",
    "    sc.pl.umap(data_train, color=f\"leiden_res{resolution}\", ax=ax[0], title=f\"Train data, resolution {resolution}\", show=False)\n",
    "    sc.pl.embedding(data_test, basis=\"X_umap_rot\", color=f\"leiden_res{resolution}\", ax=ax[1], title=f\"Test data, resolution {resolution}\", show=False)\n",
    "    ax[1].set_xlabel(\"UMAP1\")\n",
    "    ax[1].set_ylabel(\"UMAP2\")\n",
    "    plt.tight_layout()\n",
    "    plt.show()"
   ]
  },
  {
   "cell_type": "markdown",
   "id": "fd21abe2",
   "metadata": {},
   "source": [
    "Compute modularities on train data for each clustering and select resolution with biggest increase in resolution on train data over a random clustering"
   ]
  },
  {
   "cell_type": "code",
   "execution_count": null,
   "id": "8890ed7a",
   "metadata": {
    "ExecuteTime": {
     "end_time": "2024-04-15T09:03:12.627179Z",
     "start_time": "2024-04-15T09:02:57.512393Z"
    },
    "scrolled": true
   },
   "outputs": [],
   "source": [
    "mod_df, mod_df_wide, res_opt = co.find_optimal_clustering_resolution(data_train, data_test, resolutions, random_seed=1234)\n",
    "\n",
    "print(f\"Optimal resolution {res_opt}\")\n"
   ]
  },
  {
   "cell_type": "code",
   "execution_count": null,
   "id": "4a7d1061",
   "metadata": {},
   "outputs": [],
   "source": [
    "sns.lineplot(data=mod_df, x=\"resolution\", y=\"score\", hue=\"type\")\n",
    "plt.title(\"Clustering modularities\")\n",
    "plt.xlabel(\"Resolution\")\n",
    "plt.ylabel(\"Modularity\")\n",
    "plt.show()\n",
    "\n",
    "sns.lineplot(data=mod_df_wide, x=\"resolution\", y=\"diff_rand_test\")\n",
    "plt.title(\"Clustering modularities\")\n",
    "plt.xlabel(\"Resolution\")\n",
    "plt.ylabel(\"Difference Test-Random\")\n",
    "plt.show()"
   ]
  },
  {
   "cell_type": "code",
   "execution_count": null,
   "id": "a8ea4042",
   "metadata": {},
   "outputs": [],
   "source": [
    "# Checkpoint value for resolution to reduce computation time\n",
    "res_opt = 0.23\n",
    "data_gene.uns[\"BacSC_params\"][\"res_opt\"] = res_opt\n"
   ]
  },
  {
   "cell_type": "markdown",
   "id": "80a406d5",
   "metadata": {},
   "source": [
    "### Apply clustering to full dataset"
   ]
  },
  {
   "cell_type": "code",
   "execution_count": null,
   "id": "9ff4b04e",
   "metadata": {
    "ExecuteTime": {
     "end_time": "2024-04-15T09:05:07.734073Z",
     "start_time": "2024-04-15T09:05:07.180174Z"
    }
   },
   "outputs": [],
   "source": [
    "sc.tl.leiden(data_gene, resolution=res_opt, key_added=\"leiden_opt\", random_state=1234)"
   ]
  },
  {
   "cell_type": "code",
   "execution_count": null,
   "id": "e9433f72",
   "metadata": {
    "ExecuteTime": {
     "end_time": "2024-04-15T09:05:09.189561Z",
     "start_time": "2024-04-15T09:05:08.975974Z"
    },
    "scrolled": false
   },
   "outputs": [],
   "source": [
    "sc.pl.umap(data_gene, color=\"leiden_opt\", palette=\"tab10\", title=\"Sample 3\")\n",
    "plt.show()"
   ]
  },
  {
   "cell_type": "code",
   "execution_count": null,
   "id": "a0d22cf0",
   "metadata": {},
   "outputs": [],
   "source": [
    "sc.pl.scatter(data_gene, x='total_counts', y='n_genes_by_counts', show=False, size=15, color=\"leiden_opt\")\n",
    "plt.title(\"Sequencing depth of cells (after outlier removal)\")\n",
    "plt.xlabel(\"Sequencing depth\")\n",
    "plt.ylabel(\"Number of unique genes\")\n",
    "plt.show()"
   ]
  },
  {
   "cell_type": "markdown",
   "id": "595e065f",
   "metadata": {},
   "source": [
    "**Checkpoint**\n",
    "\n",
    "Save the data to disk and read it again"
   ]
  },
  {
   "cell_type": "code",
   "execution_count": null,
   "id": "6622708c",
   "metadata": {
    "ExecuteTime": {
     "end_time": "2024-04-15T09:04:04.724369Z",
     "start_time": "2024-04-15T09:04:03.990394Z"
    }
   },
   "outputs": [],
   "source": [
    "data_gene.write(data_path + \"/filtered_data_maxpool_processed_tutorial.h5ad\")"
   ]
  },
  {
   "cell_type": "markdown",
   "id": "fb7e4c8f",
   "metadata": {},
   "source": [
    "## Attach feature table"
   ]
  },
  {
   "cell_type": "code",
   "execution_count": null,
   "id": "0841b5b2",
   "metadata": {},
   "outputs": [],
   "source": [
    "data_gene = sc.read_h5ad(data_path + \"/filtered_data_maxpool_processed_tutorial.h5ad\")\n",
    "data_gene"
   ]
  },
  {
   "cell_type": "code",
   "execution_count": null,
   "id": "43ff9ae0",
   "metadata": {
    "scrolled": true
   },
   "outputs": [],
   "source": [
    "# Adjust the path to the feature table\n",
    "feature_table = pd.read_csv(\"../data/MOBA_scRNAseq/P_aeruginosa_PAO1_feature_table.tsv\", sep=\"\\t\")\n",
    "feature_table = feature_table[[\"Locus tag\", \"Protein accession\", \"Name\", \"Symbol\"]]\n",
    "feature_table[\"Locus tag\"] = [str(x) for x in feature_table[\"Locus tag\"]]\n",
    "feature_table"
   ]
  },
  {
   "cell_type": "code",
   "execution_count": null,
   "id": "4aeef2a8",
   "metadata": {
    "scrolled": false
   },
   "outputs": [],
   "source": [
    "df3=data_gene.var.reset_index().merge(feature_table, how='left', left_on='index', right_on='Symbol').drop_duplicates(\"index\").set_index(\"index\")\n",
    "data_gene.var = df3\n",
    "data_gene.var"
   ]
  },
  {
   "cell_type": "markdown",
   "id": "02ff5d66",
   "metadata": {},
   "source": [
    "Save final dataset"
   ]
  },
  {
   "cell_type": "code",
   "execution_count": null,
   "id": "ec4037df9b7e11c7",
   "metadata": {},
   "outputs": [],
   "source": [
    "data_gene.write(data_path + \"/filtered_data_maxpool_processed_tutorial.h5ad\")"
   ]
  },
  {
   "cell_type": "markdown",
   "id": "fc3c437c",
   "metadata": {},
   "source": [
    "This concludes the main BacSC pipeline. To perform differential expression analysis, continue with the clustering analysis tutorial."
   ]
  },
  {
   "cell_type": "code",
   "execution_count": null,
   "id": "ab78421c",
   "metadata": {},
   "outputs": [],
   "source": []
  }
 ],
 "metadata": {
  "kernelspec": {
   "display_name": "Python 3",
   "language": "python",
   "name": "python3"
  },
  "language_info": {
   "codemirror_mode": {
    "name": "ipython",
    "version": 3
   },
   "file_extension": ".py",
   "mimetype": "text/x-python",
   "name": "python",
   "nbconvert_exporter": "python",
   "pygments_lexer": "ipython3",
   "version": "3.11.11"
  }
 },
 "nbformat": 4,
 "nbformat_minor": 5
}
